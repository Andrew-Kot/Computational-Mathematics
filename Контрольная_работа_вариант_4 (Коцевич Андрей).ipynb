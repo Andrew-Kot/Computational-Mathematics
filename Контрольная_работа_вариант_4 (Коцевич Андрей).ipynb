{
  "nbformat": 4,
  "nbformat_minor": 0,
  "metadata": {
    "colab": {
      "name": "Контрольная_работа_вариант_4 (Коцевич Андрей).ipynb",
      "provenance": [],
      "collapsed_sections": [
        "EJeZafGri0uV",
        "k83kiUCSP5MJ",
        "YkURZwa6fGVW",
        "5goJK8XZP6h4",
        "Ej4XZjzfSYm7"
      ]
    },
    "kernelspec": {
      "name": "python3",
      "display_name": "Python 3"
    },
    "language_info": {
      "name": "python"
    }
  },
  "cells": [
    {
      "cell_type": "code",
      "source": [
        "import numpy as np"
      ],
      "metadata": {
        "id": "3MvxCr0LunIV"
      },
      "execution_count": null,
      "outputs": []
    },
    {
      "cell_type": "markdown",
      "source": [
        "##Задача 1 Центр масс."
      ],
      "metadata": {
        "id": "EJeZafGri0uV"
      }
    },
    {
      "cell_type": "markdown",
      "source": [
        "Допишите функцию, которая вычисляет радиус-вектора центра масс трёх точек a, b, c. Все точки заданы радиус-векторами в n-мерном евклидовом пространстве, в виде массивов np.array. Массы точек заданы массивом mass. "
      ],
      "metadata": {
        "id": "Cf8ro7b_lzv3"
      }
    },
    {
      "cell_type": "code",
      "source": [
        "def centre_mass(a, b, c, mass):\n",
        "    S=(mass[0]*a+mass[1]*b+mass[2]*c)/(mass[0]+mass[1]+mass[2])\n",
        "    return S\n",
        "\n",
        "a = np.array([0, 0, 1])\n",
        "b = np.array([2, 0, 0])\n",
        "c = np.array([1, 1, 0])\n",
        "mass = np.array([1, 1, 2])\n",
        "print(centre_mass(a,b,c, mass))"
      ],
      "metadata": {
        "id": "vgFc_2MgmMte",
        "colab": {
          "base_uri": "https://localhost:8080/"
        },
        "outputId": "032cdf34-17e9-45bd-ba3d-32d7b0fb1f68"
      },
      "execution_count": null,
      "outputs": [
        {
          "output_type": "stream",
          "name": "stdout",
          "text": [
            "[1.   0.5  0.25]\n"
          ]
        }
      ]
    },
    {
      "cell_type": "markdown",
      "source": [
        "##Задача 2  Поворот на 90 градусов."
      ],
      "metadata": {
        "id": "k83kiUCSP5MJ"
      }
    },
    {
      "cell_type": "markdown",
      "source": [
        "Допишите функцию, которая поворачивает двумерный вектор на 90 градусов против часовой стрелки, в предположении, что вектор задан координатами в ортонормированном базисе и вектор с координатами $\\left(\\begin{array}{c}1\\\\0\\end{array}\\right)$ при повороте отображается в $\\left(\\begin{array}{c}0\\\\1\\end{array}\\right)$."
      ],
      "metadata": {
        "id": "_89UCB-nle5u"
      }
    },
    {
      "cell_type": "code",
      "source": [
        "def rotate90(x):\n",
        "    '''Повернуть x на 90 градусов против часовой стрелки'''\n",
        "    x = np.array(x)\n",
        "    angle = np.pi/2\n",
        "    rotate_matrix = np.array([ #матрица поворота\n",
        "        [np.cos(angle), -np.sin(angle)],\n",
        "        [np.sin(angle), np.cos(angle)]\n",
        "    ])\n",
        "    return rotate_matrix@x"
      ],
      "metadata": {
        "id": "i98Kef0Kliz6"
      },
      "execution_count": null,
      "outputs": []
    },
    {
      "cell_type": "code",
      "source": [
        "a = np.array([[1, 0]]).T\n",
        "np.round(rotate90(a), 10)"
      ],
      "metadata": {
        "colab": {
          "base_uri": "https://localhost:8080/"
        },
        "id": "JffNqP6b4Lh2",
        "outputId": "9dcc5cf4-f0ad-4096-e16d-4b5d4c91780c"
      },
      "execution_count": null,
      "outputs": [
        {
          "output_type": "execute_result",
          "data": {
            "text/plain": [
              "array([[0.],\n",
              "       [1.]])"
            ]
          },
          "metadata": {},
          "execution_count": 45
        }
      ]
    },
    {
      "cell_type": "markdown",
      "source": [
        "##Задача 3  Минимальное собственное значение."
      ],
      "metadata": {
        "id": "YkURZwa6fGVW"
      }
    },
    {
      "cell_type": "markdown",
      "source": [
        "Рассмотрите диагональную матрицу $D$ размера $n \\times n$ и вектор-столбец $u$. Выберите $D$ и $u$ случайным образом (сгенерировав их элементы из стандартного нормального распределения) и найдите минимальное собственное значение и соответствующий собственный ему собственный вектор матрицы\n",
        "$$\n",
        "A=D+\\frac{u u^{T}}{u^{T} u}\n",
        "$$\n",
        "\n",
        "Рассмотрите случай $n=10^{2}$"
      ],
      "metadata": {
        "id": "zPdSc_ntfPCf"
      }
    },
    {
      "cell_type": "code",
      "source": [
        "n = 100\n",
        "\n",
        "D = (np.eye(n)*np.random.normal(size=n))\n",
        "u = np.random.normal(size=n).reshape(-1, 1)\n",
        "A = D + u@u.T/(u.T@u)\n",
        "\n",
        "eigvals, eigvectors = np.linalg.eig(A)\n",
        "\n",
        "# выбор минимального собств. значения и соответствующего ему собств. вектора\n",
        "mineig, mineig_vector = eigvals[np.argmin(eigvals)], eigvectors[:, np.argmin(eigvals)]\n",
        "mineig_vector = mineig_vector.reshape(-1, 1)\n",
        "print('Минимальное собственное значение', mineig)\n",
        "print('Соответствующий ему собственный вектор:')\n",
        "print(mineig_vector)"
      ],
      "metadata": {
        "colab": {
          "base_uri": "https://localhost:8080/"
        },
        "id": "5NLbpZqh4Shg",
        "outputId": "5fd7b8bf-8b03-43ad-9f21-396b816dfa74"
      },
      "execution_count": null,
      "outputs": [
        {
          "output_type": "stream",
          "name": "stdout",
          "text": [
            "Минимальное собственное значение -2.5194319393987135\n",
            "Соответствующий ему собственный вектор:\n",
            "[[-6.89120549e-06]\n",
            " [-6.87249622e-07]\n",
            " [-1.08965308e-05]\n",
            " [ 2.08480857e-07]\n",
            " [ 7.86252097e-06]\n",
            " [-2.86218879e-05]\n",
            " [-1.58610215e-05]\n",
            " [ 1.06626131e-05]\n",
            " [ 2.91743920e-05]\n",
            " [ 1.54144200e-05]\n",
            " [-1.22021063e-05]\n",
            " [-7.74473907e-06]\n",
            " [ 6.50187050e-06]\n",
            " [ 7.28520419e-06]\n",
            " [-8.42596000e-06]\n",
            " [ 1.22820782e-06]\n",
            " [-1.09889299e-05]\n",
            " [-2.47402129e-05]\n",
            " [-2.41906594e-05]\n",
            " [-1.98472003e-05]\n",
            " [ 8.02537225e-06]\n",
            " [ 1.62532557e-05]\n",
            " [ 1.56374557e-05]\n",
            " [ 1.89618177e-05]\n",
            " [-1.98978418e-05]\n",
            " [-2.20221141e-05]\n",
            " [ 1.16899958e-05]\n",
            " [-3.81989769e-06]\n",
            " [ 2.13296555e-05]\n",
            " [ 4.38990963e-05]\n",
            " [ 5.43591975e-05]\n",
            " [ 2.46320192e-06]\n",
            " [-2.27949942e-05]\n",
            " [ 1.60511538e-05]\n",
            " [-7.12666708e-05]\n",
            " [ 4.21533340e-06]\n",
            " [-1.23483622e-05]\n",
            " [-9.38906264e-06]\n",
            " [-3.02660617e-06]\n",
            " [-2.03647309e-05]\n",
            " [-9.06430655e-06]\n",
            " [ 1.30191420e-05]\n",
            " [-1.42274628e-05]\n",
            " [-8.18768963e-06]\n",
            " [ 4.60930607e-06]\n",
            " [ 1.09327650e-05]\n",
            " [-7.43797551e-06]\n",
            " [ 2.07919376e-05]\n",
            " [-9.99999975e-01]\n",
            " [ 6.67797643e-07]\n",
            " [-7.32413097e-06]\n",
            " [ 3.79132121e-05]\n",
            " [ 1.91377759e-05]\n",
            " [ 1.56766300e-05]\n",
            " [-2.81475980e-05]\n",
            " [-1.96097143e-05]\n",
            " [ 8.29373275e-06]\n",
            " [-5.26067003e-06]\n",
            " [-2.90966827e-06]\n",
            " [ 5.25674202e-06]\n",
            " [-5.89070859e-06]\n",
            " [-2.39158935e-06]\n",
            " [-2.62606360e-06]\n",
            " [-1.01168582e-07]\n",
            " [-6.29045090e-06]\n",
            " [-8.09374871e-06]\n",
            " [ 3.40836752e-06]\n",
            " [-1.15091233e-05]\n",
            " [-7.15433321e-07]\n",
            " [-5.37721897e-07]\n",
            " [ 2.76552382e-06]\n",
            " [-2.13516595e-05]\n",
            " [-7.71546966e-07]\n",
            " [-1.18126423e-05]\n",
            " [ 3.52359488e-05]\n",
            " [ 4.53558835e-05]\n",
            " [-3.04394004e-05]\n",
            " [-8.06248385e-06]\n",
            " [ 1.00661301e-05]\n",
            " [-9.45111730e-06]\n",
            " [ 2.73508030e-05]\n",
            " [-5.55921231e-05]\n",
            " [ 1.17720442e-04]\n",
            " [-9.12360464e-06]\n",
            " [ 1.87111537e-06]\n",
            " [-1.11812303e-06]\n",
            " [ 2.11193130e-05]\n",
            " [ 1.04583883e-05]\n",
            " [-1.40703137e-05]\n",
            " [ 1.94505369e-05]\n",
            " [-1.64073890e-05]\n",
            " [ 3.06553670e-05]\n",
            " [-8.80003398e-06]\n",
            " [ 7.94954809e-06]\n",
            " [-5.28474762e-06]\n",
            " [-1.73694199e-05]\n",
            " [-1.73342014e-05]\n",
            " [ 3.39534861e-06]\n",
            " [ 3.43729853e-06]\n",
            " [-5.81973822e-06]]\n"
          ]
        }
      ]
    },
    {
      "cell_type": "markdown",
      "source": [
        "##Задача 4  Возмущение корреляционной матрицы."
      ],
      "metadata": {
        "id": "5goJK8XZP6h4"
      }
    },
    {
      "cell_type": "markdown",
      "source": [
        "Управляющий активами Neurozhaika Capital Management noлучил от своих аналитиков корреляционную матрицу трёх фондовых индексов,\n",
        "\n",
        "$$\n",
        "\\mathbf{C}=\\left(\\begin{array}{ccc}\n",
        "1 & 0.9 & 0.7 \\\\\n",
        "0.9 & 1 & 0.4 \\\\\n",
        "0.7 & 0.4 & 1\n",
        "\\end{array}\\right)\n",
        "$$\n",
        "\n",
        "Коэффициент корреляции $0.4$ кажется ему завышенным, и он хочет поиграть с этой величиной, промоделировав гипотетический портфель, заменив $0.4$ на $0.3$. Найдите собственнные значения исходной ${\\mathbf{C}}_{0} $ и возмущённой $\\overline{\\mathbf{C}}_{0} $ матриц. Несмотря на относительно малое возмущение и разумный вид возмущённой матрицы какие-то из собственных значений станут отрицательными, и матрица $\\overline{\\mathbf{C}}_{0}$ не будет положительно определенной, что неприемлемо. Рассмотрите следующий \"спектральный\" рецепт восстановления свойств корреляционной матрицы:\n",
        "\n",
        "\n",
        "- Посчитать все собственные значения $\\lambda_{i} $  и собственные векторы возмущённой матрицы. Ввести новые собственные значения по правилу $\\lambda_{i}^{\\prime} = \\lambda_{i}$, если $\\lambda_{i} \\geq 0$, иначе $\\lambda_{i}^{\\prime}=0$\n",
        "- Умножить собственные векторы на модифицированные собственные значения $\\lambda_{i}^{\\prime}$ , и использовать их в качестве столбцов новой матрицы $\\mathbf{B}^{\\prime}$ .\n",
        "- Отнормировать строки матрицы $\\mathbf{B}^{\\prime}$ (векторы) на единичную длину, получив тем самым новую матрицу $\\mathbf{B}$.\n",
        "- Построить новую возмущённую корреляционную матрицу по правилу $\\overline{\\mathbf{C}}_{1}=\\mathbf{B B}^{T}$.\n",
        "\n",
        "Полученная таким образом матрица $\\overline{\\mathbf{C}}_{1}$ будет положительно определенной с единицами на главной диагонали, то есть отвечать формальным требованиям, предъявляемым к корреляционной матрице. Найти численно матрицу $\\overline{\\mathbf{C}}_{1}$."
      ],
      "metadata": {
        "id": "ZxkF4KCWQNe5"
      }
    },
    {
      "cell_type": "code",
      "source": [
        "С0 = np.array([[1.0, 0.9, 0.7], [0.9, 1.0, 0.4], [0.7, 0.4, 1]]) #исходная матрица\n",
        "С0_perm = np.array([[1.0, 0.9, 0.7], [0.9, 1.0, 0.3], [0.7, 0.3, 1]]) #исходная матрица\n",
        "w0, v0 = np.linalg.eig(С0)\n",
        "w0_perm, v0_perm = np.linalg.eig(С0_perm)\n",
        "print(\"Собственные значения невозмущённой матрицы: \", w0)\n",
        "print(\"Собственные значения возмущённой матрицы: \", w0_perm)\n",
        "w1 = np.zeros(3) # 1 шаг\n",
        "for i in range(3):\n",
        "  if w0_perm[i] >= 0:\n",
        "    w1[i] = w0_perm[i]\n",
        "B1 = v0_perm*w1 #2 шаг\n",
        "B_norm = (B1**2).sum(axis=1)**(1/2) #3 шаг\n",
        "B = B1/ B_norm.reshape(-1, 1)\n",
        "C1 = B@B.T #4 шаг\n",
        "C1"
      ],
      "metadata": {
        "colab": {
          "base_uri": "https://localhost:8080/"
        },
        "id": "X3Sj5SU9w3YV",
        "outputId": "0f723640-e2c0-4cc1-f4d9-e92932e10e7b"
      },
      "execution_count": null,
      "outputs": [
        {
          "output_type": "stream",
          "name": "stdout",
          "text": [
            "Собственные значения невозмущённой матрицы:  [2.35363603 0.03034736 0.6160166 ]\n",
            "Собственные значения возмущённой матрицы:  [ 2.29672779 -0.00735244  0.71062465]\n"
          ]
        },
        {
          "output_type": "execute_result",
          "data": {
            "text/plain": [
              "array([[1.        , 0.96153494, 0.87605522],\n",
              "       [0.96153494, 1.        , 0.70990276],\n",
              "       [0.87605522, 0.70990276, 1.        ]])"
            ]
          },
          "metadata": {},
          "execution_count": 24
        }
      ]
    },
    {
      "cell_type": "markdown",
      "source": [
        "##Задача 5  Вunch-Nielsen-Sorensen formula."
      ],
      "metadata": {
        "id": "Ej4XZjzfSYm7"
      }
    },
    {
      "cell_type": "markdown",
      "source": [
        "Решите задачу 3 для случая $n=10^{4}$. Для этого используйте  Вunch-Nielsen-Sorensen formula.\n",
        "\n",
        "Let $\\lambda_{i}$ denote the eigenvalues of $A$ and $\\tilde{\\lambda}_{i}$ denote the eigenvalues of the updated matrix $\\tilde{A}=A+v v^{T} .$ In the special case when $A$ is diagonal, the eigenvectors $\\tilde{q}_{i}$ of $\\tilde{A}$ can be written\n",
        "\n",
        "$$\n",
        "\\left(\\tilde{q}_{i}\\right)_{k}=\\frac{N_{i} v_{k}}{\\lambda_{k}-\\tilde{\\lambda}_{i}}\n",
        "$$\n",
        "\n",
        "where $N_{i}$ is a number that makes the vector $\\tilde{q}_{i}$ normalized. "
      ],
      "metadata": {
        "id": "qCtPhZf_TWTg"
      }
    },
    {
      "cell_type": "code",
      "execution_count": null,
      "metadata": {
        "id": "ID7pEjNi7AUu"
      },
      "outputs": [],
      "source": [
        "def find_eigenvector(D, v, eig): #ищет собственное значение A=D+v@v.T, соответствующее собственному значению A\n",
        "    \"\"\" \n",
        "    D: диагональная матрица n x n\n",
        "    v: вектор размера n x 1\n",
        "    eig: собственное значение A \n",
        "    \"\"\"\n",
        "    D_eigs = np.diag(D)\n",
        "    q = v / (D_eigs.reshape(-1, 1) - eig)\n",
        "    q /= np.linalg.norm(q)    \n",
        "    return q"
      ]
    },
    {
      "cell_type": "code",
      "execution_count": null,
      "metadata": {
        "collapsed": true,
        "id": "s5VJI2qf7AUu",
        "outputId": "f1da182f-5949-47b4-c6e6-b3942dd67064",
        "colab": {
          "base_uri": "https://localhost:8080/"
        }
      },
      "outputs": [
        {
          "output_type": "stream",
          "name": "stdout",
          "text": [
            "Минимальное собственное значение -4.125965895258424\n",
            "Соответствующий ему собственный вектор:\n",
            "[[-4.83505105e-06]\n",
            " [ 3.07771475e-05]\n",
            " [-4.28828480e-05]\n",
            " ...\n",
            " [ 1.64925772e-05]\n",
            " [-4.25097032e-05]\n",
            " [-8.47102203e-05]]\n"
          ]
        }
      ],
      "source": [
        "n = 10000 #1 способ\n",
        "\n",
        "D = (np.eye(n)*np.random.normal(size=n))\n",
        "u = np.random.normal(size=n).reshape(-1, 1)\n",
        "A = D + u@u.T/(u.T@u)\n",
        "\n",
        "eigvals = np.linalg.eigvals(A)\n",
        "mineig = eigvals.min()\n",
        "mineig_vector = find_eigenvector(D, u, mineig)\n",
        "\n",
        "print('Минимальное собственное значение', mineig)\n",
        "print('Соответствующий ему собственный вектор:')\n",
        "print(mineig_vector)"
      ]
    },
    {
      "cell_type": "code",
      "execution_count": null,
      "metadata": {
        "id": "GiqBEnarCjHu"
      },
      "outputs": [],
      "source": [
        "def find_mineig(A): #2 способ\n",
        "\n",
        "    iters = 20000\n",
        "    v0 = np.zeros((A.shape[0], 1))\n",
        "    v0[0,0] = 1\n",
        "    v = v0\n",
        "    max_eig = np.zeros(iters)\n",
        "    const = 100\n",
        "    for i in range(iters):\n",
        "        v = v/np.max(np.abs(v))\n",
        "        new_v = (A-const*np.eye(A.shape[0]))@v\n",
        "\n",
        "        max_eig[i] = new_v.T@v/(v.T@v)\n",
        "        v = new_v\n",
        "    return max_eig[-1]+const"
      ]
    },
    {
      "cell_type": "code",
      "execution_count": null,
      "metadata": {
        "id": "z1D__xgRCjHu"
      },
      "outputs": [],
      "source": [
        "n = 10000\n",
        "\n",
        "D = (np.eye(n)*np.random.normal(size=n))\n",
        "u = np.random.normal(size=n).reshape(-1, 1)\n",
        "A = D + u@u.T/(u.T@u)\n",
        "\n",
        "# eigvals = np.linalg.eigvals(A)\n",
        "# mineig = eigvals.min()\n",
        "mineig = find_mineig(A)\n",
        "mineig_vector = find_eigenvector(D, u, mineig)\n",
        "\n",
        "print('Минимальное собственное значение', mineig)\n",
        "print('Соответствующий ему собственный вектор:')\n",
        "print(mineig_vector)"
      ]
    }
  ]
}