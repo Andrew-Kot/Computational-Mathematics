{
  "nbformat": 4,
  "nbformat_minor": 0,
  "metadata": {
    "colab": {
      "name": "B4.ipynb",
      "provenance": [],
      "collapsed_sections": []
    },
    "kernelspec": {
      "name": "python3",
      "display_name": "Python 3"
    },
    "language_info": {
      "name": "python"
    }
  },
  "cells": [
    {
      "cell_type": "markdown",
      "metadata": {
        "id": "kxhZr4wsxGgK"
      },
      "source": [
        "**B4**\n",
        "\n",
        "Коцевич Андрей, Б02-920\n",
        "\n",
        "Теоретическая задача 3 решена в отдельном файле."
      ]
    },
    {
      "cell_type": "code",
      "metadata": {
        "id": "CKxX1o7mtE3o"
      },
      "source": [
        "import numpy as np\n",
        "import scipy.linalg as scl\n",
        "from matplotlib import pyplot as plt "
      ],
      "execution_count": 6,
      "outputs": []
    },
    {
      "cell_type": "markdown",
      "metadata": {
        "id": "tz34WUx6oESN"
      },
      "source": [
        "**1.** Напишите программу, реализующую приближённое решение системы линейных алгебраических уравнений итерационным методом Якоби. С её помощью найдите решение системы уравнений следующего вида: $Ax=f$\n",
        "$$a_{ii}=2,\\quad a_{i,i+1}=-1-α,\\quad a_{i,i-1}=-1+α$$\n",
        "$$f_1=1-α,\\quad f_i=0,\\quad i=2,3,...,n-1,\\quad f_n=1+α$$\n",
        "Какое у этой системы точное решение?  С какой скоростью метод сходится в зависимости от $n$ и $α$?"
      ]
    },
    {
      "cell_type": "code",
      "metadata": {
        "id": "PNAy4kg4pftx"
      },
      "source": [
        "def jacobi(A, f, e): #метод Якоби \n",
        "  x = np.matrix(np.zeros((A.shape[0],1)))\n",
        "  D = np.diagflat(np.diag(A))\n",
        "  R = A - D\n",
        "  r = A*x-f #невязка\n",
        "  iter = 0 #число итераций\n",
        "  while (scl.norm(r,2)>e) & (scl.norm(r,2)<1e3):\n",
        "    x=scl.inv(D)*(f-R*x)\n",
        "    r=A*x-f\n",
        "    iter += 1\n",
        "  return x, iter"
      ],
      "execution_count": 14,
      "outputs": []
    },
    {
      "cell_type": "code",
      "metadata": {
        "colab": {
          "base_uri": "https://localhost:8080/"
        },
        "id": "ulsHPWub2CZ1",
        "outputId": "7420095d-5e98-48ec-b856-6b8f50e6ef7d"
      },
      "source": [
        "def init(n, alpha): #инициализация матрицы A и столбца f\n",
        "  A = np.zeros([n, n])\n",
        "  for i in range(n):\n",
        "    A[i, i] = 2\n",
        "    if i != n - 1:\n",
        "      A[i, i + 1] = -1 - alpha\n",
        "    if i != 0:\n",
        "      A[i, i - 1] = -1 + alpha\n",
        "  f = np.zeros(n)\n",
        "  f[0] = 1 - alpha\n",
        "  f[n - 1] = 1 + alpha\n",
        "  return A, f.reshape(-1,1)\n",
        "A, f = init(5, 0.1)\n",
        "jacobi(A, f, 0.01)"
      ],
      "execution_count": 15,
      "outputs": [
        {
          "output_type": "execute_result",
          "data": {
            "text/plain": [
              "(matrix([[0.99054045],\n",
              "         [0.9872296 ],\n",
              "         [0.98452073],\n",
              "         [0.98955149],\n",
              "         [0.99366757]]), 30)"
            ]
          },
          "metadata": {},
          "execution_count": 15
        }
      ]
    },
    {
      "cell_type": "markdown",
      "metadata": {
        "id": "txXgm0o89VME"
      },
      "source": [
        "Точное решение этой системы -- единичный вектор."
      ]
    },
    {
      "cell_type": "code",
      "metadata": {
        "colab": {
          "base_uri": "https://localhost:8080/",
          "height": 284
        },
        "id": "5PH4zLbAV8XI",
        "outputId": "819d4040-7b5f-414a-80b8-adb689f277ab"
      },
      "source": [
        "#зависимость числа итераций от n\n",
        "iters = []\n",
        "N = 50\n",
        "for i in range(2, N):\n",
        "  A, f = init(i, 0.5)\n",
        "  x,iter=jacobi(A, f, 0.01)\n",
        "  iters.append(iter)\n",
        "plt.plot(np.array(range(2, N)), iters)"
      ],
      "execution_count": 8,
      "outputs": [
        {
          "output_type": "execute_result",
          "data": {
            "text/plain": [
              "[<matplotlib.lines.Line2D at 0x7f45765821d0>]"
            ]
          },
          "metadata": {},
          "execution_count": 8
        },
        {
          "output_type": "display_data",
          "data": {
            "image/png": "[encoded data removed]",
            "text/plain": [
              "<Figure size 432x288 with 1 Axes>"
            ]
          },
          "metadata": {
            "needs_background": "light"
          }
        }
      ]
    },
    {
      "cell_type": "markdown",
      "metadata": {
        "id": "l7AdXMB-YwHN"
      },
      "source": [
        "Чем больше матрица, тем медленнее сходится. Похоже на линейный рост $O(N)$."
      ]
    },
    {
      "cell_type": "code",
      "metadata": {
        "colab": {
          "base_uri": "https://localhost:8080/",
          "height": 282
        },
        "id": "OCPMB2yPYRsb",
        "outputId": "717549d5-5a73-4164-d47e-588e1439a122"
      },
      "source": [
        "#зависимость числа итераций от alpha\n",
        "iters = []\n",
        "N = 200\n",
        "for i in range(2, N):\n",
        "  A, f = init(20, 0.01*i)\n",
        "  x,iter=jacobi(A, f, 0.01)\n",
        "  iters.append(iter)\n",
        "plt.plot(np.array(range(2, N))*0.01, iters)"
      ],
      "execution_count": null,
      "outputs": [
        {
          "output_type": "execute_result",
          "data": {
            "text/plain": [
              "[<matplotlib.lines.Line2D at 0x7f130e5f1cd0>]"
            ]
          },
          "metadata": {},
          "execution_count": 117
        },
        {
          "output_type": "display_data",
          "data": {
            "image/png": "[encoded data removed]",
            "text/plain": [
              "<Figure size 432x288 with 1 Axes>"
            ]
          },
          "metadata": {
            "needs_background": "light"
          }
        }
      ]
    },
    {
      "cell_type": "code",
      "metadata": {
        "id": "07DhMc5VdZjD"
      },
      "source": [
        "При $\\alpha=1.25$ происходит скачок в числе итераций."
      ],
      "execution_count": null,
      "outputs": []
    },
    {
      "cell_type": "markdown",
      "metadata": {
        "id": "E8PeoziTeuXX"
      },
      "source": [
        "**2.** Напишите программу, реализующую приближённое решение системы линейных\n",
        "алгебраических уравнений итерационным методом Зейделя. С её помощью найдите\n",
        "решение системы уравнений из предыдущей задачи. Сравните между собой скорости\n",
        "сходимости итерационных методов Якоби и Зейделя."
      ]
    },
    {
      "cell_type": "code",
      "metadata": {
        "id": "OzmYX3DtkdLS"
      },
      "source": [
        "def zeidel(A, f, e): #метод Зейделя \n",
        "  x = np.matrix(np.zeros((A.shape[0],1)))\n",
        "  D = np.diag(np.diag(A))\n",
        "  L = np.tril(A) - D\n",
        "  U = np.triu(A) - D\n",
        "  r = A*x-f #невязка\n",
        "  iter = 0\n",
        "  while (scl.norm(r,2)>e) & (scl.norm(r,2)<1e3):\n",
        "    x=-np.linalg.inv(L+D)@U*x+np.linalg.inv(L+D)@f\n",
        "    r=A*x-f\n",
        "    iter += 1\n",
        "  return x, iter"
      ],
      "execution_count": 91,
      "outputs": []
    },
    {
      "cell_type": "code",
      "metadata": {
        "colab": {
          "base_uri": "https://localhost:8080/"
        },
        "id": "WHUwKhvXoAFS",
        "outputId": "4de6f856-348f-4467-e9d4-3da28013d8ee"
      },
      "source": [
        "A, f = init(5, 0.1)\n",
        "zeidel(A, f, 0.01)"
      ],
      "execution_count": 92,
      "outputs": [
        {
          "output_type": "execute_result",
          "data": {
            "text/plain": [
              "(matrix([[0.98928281],\n",
              "         [0.98553179],\n",
              "         [0.98697861],\n",
              "         [0.99121056],\n",
              "         [0.99604475]]), 16)"
            ]
          },
          "metadata": {},
          "execution_count": 92
        }
      ]
    },
    {
      "cell_type": "code",
      "metadata": {
        "colab": {
          "base_uri": "https://localhost:8080/",
          "height": 284
        },
        "id": "fEqp-67Do5RF",
        "outputId": "32b762bb-7d20-4248-9d96-cc0e33ee50a3"
      },
      "source": [
        "#зависимость от n методов Якоби и Зейделя на одном графике\n",
        "iters1 = []\n",
        "iters2 = []\n",
        "N = 50\n",
        "for i in range(2, N):\n",
        "    A, f = init(i, 0.5)\n",
        "    x, iter = jacobi(A, f, 0.01)\n",
        "    iters1.append(iter)\n",
        "    x, iter = zeidel(A, f, 0.01)\n",
        "    iters2.append(iter)\n",
        "plt.plot(np.array(range(2, N)), iters1, label='метод Якоби')\n",
        "plt.plot(np.array(range(2, N)), iters2, label='метод Зейделя')\n",
        "plt.legend()"
      ],
      "execution_count": 224,
      "outputs": [
        {
          "output_type": "execute_result",
          "data": {
            "text/plain": [
              "<matplotlib.legend.Legend at 0x7f4569d909d0>"
            ]
          },
          "metadata": {},
          "execution_count": 224
        },
        {
          "output_type": "display_data",
          "data": {
            "image/png": "[encoded data removed]",
            "text/plain": [
              "<Figure size 432x288 with 1 Axes>"
            ]
          },
          "metadata": {
            "needs_background": "light"
          }
        }
      ]
    },
    {
      "cell_type": "code",
      "metadata": {
        "colab": {
          "base_uri": "https://localhost:8080/",
          "height": 282
        },
        "id": "LM4sTDlJqRnP",
        "outputId": "9120d836-c4f8-437e-cce6-6e99adc9d67b"
      },
      "source": [
        "#зависимость от alpha методов Якоби и Зейделя на одном графике\n",
        "iters1 = []\n",
        "iters2 = []\n",
        "N = 200\n",
        "for i in range(1, N):\n",
        "    A, f = init(20, 0.01*i)\n",
        "    x, n_iter = jacobi(A, f, 0.01)\n",
        "    iters1.append(n_iter)\n",
        "    x, n_iter = zeidel(A, f, 0.01)\n",
        "    iters2.append(n_iter)\n",
        "plt.plot(np.array(range(1, N))*0.01, iters1, label='метод Якоби')\n",
        "plt.plot(np.array(range(1, N))*0.01, iters2, label='метод Зейделя')\n",
        "plt.legend()"
      ],
      "execution_count": 159,
      "outputs": [
        {
          "output_type": "execute_result",
          "data": {
            "text/plain": [
              "<matplotlib.legend.Legend at 0x7f456b933910>"
            ]
          },
          "metadata": {},
          "execution_count": 159
        },
        {
          "output_type": "display_data",
          "data": {
            "image/png": "[encoded data removed]",
            "text/plain": [
              "<Figure size 432x288 with 1 Axes>"
            ]
          },
          "metadata": {
            "needs_background": "light"
          }
        }
      ]
    },
    {
      "cell_type": "markdown",
      "metadata": {
        "id": "kkHFxG7UUwVN"
      },
      "source": [
        "Как видно, метод Зейделя сходится быстрее."
      ]
    },
    {
      "cell_type": "markdown",
      "metadata": {
        "id": "jNSpcRWl7UaZ"
      },
      "source": [
        "**4.** Напишите программу, реализующую приближённое решение системы линейных алгебраических уравнений методом релаксации (обобщение методов Гаусса и Зейделя)$$(D+L)\\frac{x_{k+1}-x_k}{\\tau_{k+1}}+Ax_k=f,\\quad k=1,2,...$$\n",
        "Исследуйте зависимость скорости сходимости этого итерационного метода от итерационного параметра $\\tau_{k+1}=\\tau$ при численном решении системы уравнений из первой задачи в зависимости от параметров $n$ и $α$. "
      ]
    },
    {
      "cell_type": "code",
      "metadata": {
        "id": "u_tV1iNeN3un"
      },
      "source": [
        "def relaxation(A, f, tau, e): #метод релаксации\n",
        "    D = np.diag(np.diag(A))\n",
        "    L = np.tril(A) - D\n",
        "    U = np.triu(A) - D\n",
        "    x = np.zeros(shape=(A.shape[1], 1))\n",
        "    r=A@x-f\n",
        "    iter = 0\n",
        "    while (scl.norm(r,2)>e) & (scl.norm(r,2)<1e3):\n",
        "        x = x-tau*np.linalg.inv(D+L)@A@x+tau*np.linalg.inv(D+L)@f\n",
        "        r = A@x-f\n",
        "        iter += 1\n",
        "    return x, iter"
      ],
      "execution_count": 102,
      "outputs": []
    },
    {
      "cell_type": "code",
      "metadata": {
        "colab": {
          "base_uri": "https://localhost:8080/"
        },
        "id": "sSluRIpJN6Xq",
        "outputId": "dbd33045-317b-4857-987b-2ec2218d40a4"
      },
      "source": [
        "A, f = init(5, 0.1)\n",
        "relaxation(A, f, 1, 0.01)"
      ],
      "execution_count": 114,
      "outputs": [
        {
          "output_type": "execute_result",
          "data": {
            "text/plain": [
              "(array([[0.98928281],\n",
              "        [0.98553179],\n",
              "        [0.98697861],\n",
              "        [0.99121056],\n",
              "        [0.99604475]]), 16)"
            ]
          },
          "metadata": {},
          "execution_count": 114
        }
      ]
    },
    {
      "cell_type": "code",
      "metadata": {
        "colab": {
          "base_uri": "https://localhost:8080/",
          "height": 282
        },
        "id": "qKH2R3m0XFrb",
        "outputId": "2c63de45-2855-4bdc-e853-c38b374742cb"
      },
      "source": [
        "#зависимость от tau при n=2, alpha = 0.01\n",
        "iters = []\n",
        "N = 200\n",
        "for i in range(1, N):\n",
        "  A, f = init(2, 0.01)\n",
        "  x,iter=relaxation(A, f, i*0.01, 0.1)\n",
        "  iters.append(iter)\n",
        "plt.plot(np.array(range(1, N))*0.01, iters)"
      ],
      "execution_count": 200,
      "outputs": [
        {
          "output_type": "execute_result",
          "data": {
            "text/plain": [
              "[<matplotlib.lines.Line2D at 0x7f456a871c90>]"
            ]
          },
          "metadata": {},
          "execution_count": 200
        },
        {
          "output_type": "display_data",
          "data": {
            "image/png": "[encoded data removed]",
            "text/plain": [
              "<Figure size 432x288 with 1 Axes>"
            ]
          },
          "metadata": {
            "needs_background": "light"
          }
        }
      ]
    },
    {
      "cell_type": "code",
      "metadata": {
        "colab": {
          "base_uri": "https://localhost:8080/",
          "height": 282
        },
        "id": "EflUkQeYXFrk",
        "outputId": "2905bd28-7c58-4ca0-b83f-586948f45ddb"
      },
      "source": [
        "#зависимость от tau при n=5, alpha = 0.01\n",
        "iters = []\n",
        "N = 200\n",
        "for i in range(1, N):\n",
        "  A, f = init(5, 0.01)\n",
        "  x,iter=relaxation(A, f, i*0.01, 0.1)\n",
        "  iters.append(iter)\n",
        "plt.plot(np.array(range(1, N))*0.01, iters)"
      ],
      "execution_count": 202,
      "outputs": [
        {
          "output_type": "execute_result",
          "data": {
            "text/plain": [
              "[<matplotlib.lines.Line2D at 0x7f456a78f790>]"
            ]
          },
          "metadata": {},
          "execution_count": 202
        },
        {
          "output_type": "display_data",
          "data": {
            "image/png": "[encoded data removed]",
            "text/plain": [
              "<Figure size 432x288 with 1 Axes>"
            ]
          },
          "metadata": {
            "needs_background": "light"
          }
        }
      ]
    },
    {
      "cell_type": "markdown",
      "metadata": {
        "id": "SqK7e1ZMYTPb"
      },
      "source": [
        "Начиная с $n=5$, при $\\alpha=0.01$ локальный максимум вблизи $\\tau=2$ начинает смещаться."
      ]
    },
    {
      "cell_type": "code",
      "metadata": {
        "colab": {
          "base_uri": "https://localhost:8080/",
          "height": 282
        },
        "id": "EH1__RxxYo4s",
        "outputId": "11dd4e36-5e2c-4ab2-dc8b-d0e442c84556"
      },
      "source": [
        "#зависимость от tau при n=50, alpha = 0.01\n",
        "iters = []\n",
        "N = 200\n",
        "for i in range(1, N):\n",
        "  A, f = init(50, 0.01)\n",
        "  x,iter=relaxation(A, f, i*0.01, 0.1)\n",
        "  iters.append(iter)\n",
        "plt.plot(np.array(range(1, N))*0.01, iters)"
      ],
      "execution_count": 203,
      "outputs": [
        {
          "output_type": "execute_result",
          "data": {
            "text/plain": [
              "[<matplotlib.lines.Line2D at 0x7f456a7004d0>]"
            ]
          },
          "metadata": {},
          "execution_count": 203
        },
        {
          "output_type": "display_data",
          "data": {
            "image/png": "[encoded data removed]",
            "text/plain": [
              "<Figure size 432x288 with 1 Axes>"
            ]
          },
          "metadata": {
            "needs_background": "light"
          }
        }
      ]
    },
    {
      "cell_type": "code",
      "metadata": {
        "colab": {
          "base_uri": "https://localhost:8080/",
          "height": 282
        },
        "id": "cPiwNyzlZukZ",
        "outputId": "880a26cb-7fe6-43cd-95a1-c1e05db26657"
      },
      "source": [
        "#зависимость от tau при n=2, alpha = 0.5\n",
        "iters = []\n",
        "N = 200\n",
        "for i in range(1, N):\n",
        "  A, f = init(2, 0.5)\n",
        "  x,iter=relaxation(A, f, i*0.01, 0.1)\n",
        "  iters.append(iter)\n",
        "plt.plot(np.array(range(1, N))*0.01, iters)"
      ],
      "execution_count": 222,
      "outputs": [
        {
          "output_type": "execute_result",
          "data": {
            "text/plain": [
              "[<matplotlib.lines.Line2D at 0x7f4569f85990>]"
            ]
          },
          "metadata": {},
          "execution_count": 222
        },
        {
          "output_type": "display_data",
          "data": {
            "image/png": "[encoded data removed]",
            "text/plain": [
              "<Figure size 432x288 with 1 Axes>"
            ]
          },
          "metadata": {
            "needs_background": "light"
          }
        }
      ]
    },
    {
      "cell_type": "code",
      "metadata": {
        "colab": {
          "base_uri": "https://localhost:8080/",
          "height": 282
        },
        "id": "l4JJ4OiyXFrl",
        "outputId": "fb329020-88c5-4987-a815-d6fa0da76b4c"
      },
      "source": [
        "#зависимость от tau при n=4, alpha = 0.5\n",
        "iters = []\n",
        "N = 200\n",
        "for i in range(1, N):\n",
        "  A, f = init(4, 0.5)\n",
        "  x,iter=relaxation(A, f, i*0.01, 0.1)\n",
        "  iters.append(iter)\n",
        "plt.plot(np.array(range(1, N))*0.01, iters)"
      ],
      "execution_count": 214,
      "outputs": [
        {
          "output_type": "execute_result",
          "data": {
            "text/plain": [
              "[<matplotlib.lines.Line2D at 0x7f456a1e4b90>]"
            ]
          },
          "metadata": {},
          "execution_count": 214
        },
        {
          "output_type": "display_data",
          "data": {
            "image/png": "[encoded data removed]",
            "text/plain": [
              "<Figure size 432x288 with 1 Axes>"
            ]
          },
          "metadata": {
            "needs_background": "light"
          }
        }
      ]
    },
    {
      "cell_type": "markdown",
      "metadata": {
        "id": "TkLq4zqxZQ4T"
      },
      "source": [
        "Начиная с $n=4$, при $\\alpha=0.5$ локальный максимум вблизи $\\tau=2$ начинает смещаться."
      ]
    },
    {
      "cell_type": "code",
      "metadata": {
        "colab": {
          "base_uri": "https://localhost:8080/",
          "height": 282
        },
        "id": "G8yHXcj8XFrl",
        "outputId": "7a2333e0-b53f-41dc-d25d-fd9abbf98ffd"
      },
      "source": [
        "#зависимость от tau при n=10, alpha = 0.5\n",
        "iters = []\n",
        "N = 200\n",
        "for i in range(1, N):\n",
        "  A, f = init(10, 0.5)\n",
        "  x,iter=relaxation(A, f, i*0.01, 0.1)\n",
        "  iters.append(iter)\n",
        "plt.plot(np.array(range(1, N))*0.01, iters)"
      ],
      "execution_count": 218,
      "outputs": [
        {
          "output_type": "execute_result",
          "data": {
            "text/plain": [
              "[<matplotlib.lines.Line2D at 0x7f456a03a590>]"
            ]
          },
          "metadata": {},
          "execution_count": 218
        },
        {
          "output_type": "display_data",
          "data": {
            "image/png": "[encoded data removed]",
            "text/plain": [
              "<Figure size 432x288 with 1 Axes>"
            ]
          },
          "metadata": {
            "needs_background": "light"
          }
        }
      ]
    },
    {
      "cell_type": "markdown",
      "metadata": {
        "id": "bLLfJJIT13lY"
      },
      "source": [
        "**5.** Напишите программу, реализующую приближённое решение системы линейных алгебраических уравнений методом верхней релаксации:\n",
        "$$(D+\\tau L)\\frac{x_{k+1}-x_k}{\\tau}+Ax_k=f,\\quad k=1,2,...$$\n",
        "Исследуйте зависимость скорости сходимости этого итерационного метода от итерационного параметра $\\tau$ при численном решении системы уравнений из первой задачи в зависимости от параметров $n$ и $\\alpha$. "
      ]
    },
    {
      "cell_type": "code",
      "metadata": {
        "id": "MRjBTeaCu7nP"
      },
      "source": [
        "def upper_relaxation(A, f, tau, e): #метод верхней релаксации\n",
        "    D = np.diag(np.diag(A))\n",
        "    L = np.tril(A) - D\n",
        "    U = np.triu(A) - D\n",
        "    x = np.zeros(shape=(A.shape[1], 1))\n",
        "    r=A@x-f\n",
        "    iter = 0\n",
        "    while (scl.norm(r,2)>e) & (scl.norm(r,2)<1e3):\n",
        "        x = x-tau*np.linalg.inv(D+tau*L)@A@x+tau*np.linalg.inv(D+tau*L)@f\n",
        "        r = A@x-f\n",
        "        iter += 1\n",
        "    return x, iter"
      ],
      "execution_count": 98,
      "outputs": []
    },
    {
      "cell_type": "code",
      "metadata": {
        "colab": {
          "base_uri": "https://localhost:8080/"
        },
        "id": "Mg88jCEM1qq1",
        "outputId": "c627558f-e201-41bc-d8fb-f271106daf3a"
      },
      "source": [
        "A, f = init(5, 0.1)\n",
        "upper_relaxation(A, f, 1, 0.01)"
      ],
      "execution_count": 113,
      "outputs": [
        {
          "output_type": "execute_result",
          "data": {
            "text/plain": [
              "(array([[0.98928281],\n",
              "        [0.98553179],\n",
              "        [0.98697861],\n",
              "        [0.99121056],\n",
              "        [0.99604475]]), 16)"
            ]
          },
          "metadata": {},
          "execution_count": 113
        }
      ]
    },
    {
      "cell_type": "code",
      "metadata": {
        "colab": {
          "base_uri": "https://localhost:8080/",
          "height": 282
        },
        "id": "Z-9aLiz-Soba",
        "outputId": "2b8a49ac-3b1f-4ba1-cecc-1ffa6e7b5302"
      },
      "source": [
        "#зависимость от tau при n=30, alpha = 0.01\n",
        "iters = []\n",
        "N = 200\n",
        "for i in range(1, N):\n",
        "  A, f = init(30, 0.01)\n",
        "  x,iter=upper_relaxation(A, f, i*0.01, 0.1)\n",
        "  iters.append(iter)\n",
        "plt.plot(np.array(range(1, N))*0.01, iters)"
      ],
      "execution_count": 149,
      "outputs": [
        {
          "output_type": "execute_result",
          "data": {
            "text/plain": [
              "[<matplotlib.lines.Line2D at 0x7f456bc28210>]"
            ]
          },
          "metadata": {},
          "execution_count": 149
        },
        {
          "output_type": "display_data",
          "data": {
            "image/png": "[encoded data removed]",
            "text/plain": [
              "<Figure size 432x288 with 1 Axes>"
            ]
          },
          "metadata": {
            "needs_background": "light"
          }
        }
      ]
    },
    {
      "cell_type": "code",
      "metadata": {
        "colab": {
          "base_uri": "https://localhost:8080/",
          "height": 282
        },
        "id": "Fwr1tjnzTMys",
        "outputId": "93c6cf20-48a8-49ab-ea7f-5098c6d21c7d"
      },
      "source": [
        "#зависимость от tau при n=100, alpha = 0.01\n",
        "iters = []\n",
        "N = 200\n",
        "for i in range(1, N):\n",
        "  A, f = init(100, 0.01)\n",
        "  x,iter=upper_relaxation(A, f, i*0.01, 0.1)\n",
        "  iters.append(iter)\n",
        "plt.plot(np.array(range(1, N))*0.01, iters)"
      ],
      "execution_count": 153,
      "outputs": [
        {
          "output_type": "execute_result",
          "data": {
            "text/plain": [
              "[<matplotlib.lines.Line2D at 0x7f456bbfea90>]"
            ]
          },
          "metadata": {},
          "execution_count": 153
        },
        {
          "output_type": "display_data",
          "data": {
            "image/png": "[encoded data removed]",
            "text/plain": [
              "<Figure size 432x288 with 1 Axes>"
            ]
          },
          "metadata": {
            "needs_background": "light"
          }
        }
      ]
    },
    {
      "cell_type": "code",
      "metadata": {
        "colab": {
          "base_uri": "https://localhost:8080/",
          "height": 282
        },
        "id": "T9niZ39h4EVc",
        "outputId": "0ce2d65e-6b54-4e98-e053-3993594a7746"
      },
      "source": [
        "#зависимость от tau при n=30, alpha = 0.1\n",
        "iters = []\n",
        "N = 200\n",
        "for i in range(1, N):\n",
        "  A, f = init(30, 0.1)\n",
        "  x,iter=upper_relaxation(A, f, i*0.01, 0.1)\n",
        "  iters.append(iter)\n",
        "plt.plot(np.array(range(1, N))*0.01, iters)"
      ],
      "execution_count": 116,
      "outputs": [
        {
          "output_type": "execute_result",
          "data": {
            "text/plain": [
              "[<matplotlib.lines.Line2D at 0x7f456c8ffed0>]"
            ]
          },
          "metadata": {},
          "execution_count": 116
        },
        {
          "output_type": "display_data",
          "data": {
            "image/png": "[encoded data removed]",
            "text/plain": [
              "<Figure size 432x288 with 1 Axes>"
            ]
          },
          "metadata": {
            "needs_background": "light"
          }
        }
      ]
    },
    {
      "cell_type": "code",
      "metadata": {
        "colab": {
          "base_uri": "https://localhost:8080/",
          "height": 282
        },
        "id": "hrRaSSZAP-RB",
        "outputId": "886df670-ea98-4cb1-f827-b52c83a384e4"
      },
      "source": [
        "#зависимость от tau при n=70, alpha = 0.1\n",
        "iters = []\n",
        "N = 200\n",
        "for i in range(1, N):\n",
        "  A, f = init(70, 0.1)\n",
        "  x,iter=upper_relaxation(A, f, i*0.01, 0.1)\n",
        "  iters.append(iter)\n",
        "plt.plot(np.array(range(1, N))*0.01, iters)"
      ],
      "execution_count": 138,
      "outputs": [
        {
          "output_type": "execute_result",
          "data": {
            "text/plain": [
              "[<matplotlib.lines.Line2D at 0x7f456bff7490>]"
            ]
          },
          "metadata": {},
          "execution_count": 138
        },
        {
          "output_type": "display_data",
          "data": {
            "image/png": "[encoded data removed]",
            "text/plain": [
              "<Figure size 432x288 with 1 Axes>"
            ]
          },
          "metadata": {
            "needs_background": "light"
          }
        }
      ]
    },
    {
      "cell_type": "markdown",
      "metadata": {
        "id": "7HD3sVpBRExH"
      },
      "source": [
        "Начиная с $n=70$, при $\\beta=0.1$ локальный максимум вблизи $\\tau=2$ начинает смещаться."
      ]
    },
    {
      "cell_type": "code",
      "metadata": {
        "colab": {
          "base_uri": "https://localhost:8080/",
          "height": 282
        },
        "id": "nIuqMW7QRwxb",
        "outputId": "1b0fb7cf-c1eb-4592-9d84-c33708aa0d9d"
      },
      "source": [
        "#зависимость от tau при n=200, alpha = 0.1\n",
        "iters = []\n",
        "N = 200\n",
        "for i in range(1, N):\n",
        "  A, f = init(150, 0.1)\n",
        "  x,iter=upper_relaxation(A, f, i*0.01, 0.1)\n",
        "  iters.append(iter)\n",
        "plt.plot(np.array(range(1, N))*0.01, iters)"
      ],
      "execution_count": 148,
      "outputs": [
        {
          "output_type": "execute_result",
          "data": {
            "text/plain": [
              "[<matplotlib.lines.Line2D at 0x7f456bca7090>]"
            ]
          },
          "metadata": {},
          "execution_count": 148
        },
        {
          "output_type": "display_data",
          "data": {
            "image/png": "[encoded data removed]",
            "text/plain": [
              "<Figure size 432x288 with 1 Axes>"
            ]
          },
          "metadata": {
            "needs_background": "light"
          }
        }
      ]
    },
    {
      "cell_type": "code",
      "metadata": {
        "colab": {
          "base_uri": "https://localhost:8080/",
          "height": 282
        },
        "id": "vcrSDjr5Tku9",
        "outputId": "9b753c42-4f96-4c16-9fb0-59cbb163723f"
      },
      "source": [
        "#зависимость от tau при n=10, alpha = 0.5\n",
        "iters = []\n",
        "N = 200\n",
        "for i in range(1, N):\n",
        "  A, f = init(10, 0.5)\n",
        "  x,iter=upper_relaxation(A, f, i*0.01, 0.1)\n",
        "  iters.append(iter)\n",
        "plt.plot(np.array(range(1, N))*0.01, iters)"
      ],
      "execution_count": 177,
      "outputs": [
        {
          "output_type": "execute_result",
          "data": {
            "text/plain": [
              "[<matplotlib.lines.Line2D at 0x7f456b287810>]"
            ]
          },
          "metadata": {},
          "execution_count": 177
        },
        {
          "output_type": "display_data",
          "data": {
            "image/png": "[encoded data removed]",
            "text/plain": [
              "<Figure size 432x288 with 1 Axes>"
            ]
          },
          "metadata": {
            "needs_background": "light"
          }
        }
      ]
    },
    {
      "cell_type": "code",
      "metadata": {
        "colab": {
          "base_uri": "https://localhost:8080/",
          "height": 282
        },
        "id": "l4Rjjb6sV0Yz",
        "outputId": "6c02d693-390b-47c3-fbbe-7b29138f8069"
      },
      "source": [
        "#зависимость от tau при n=20, alpha = 0.5\n",
        "iters = []\n",
        "N = 200\n",
        "for i in range(1, N):\n",
        "  A, f = init(20, 0.5)\n",
        "  x,iter=upper_relaxation(A, f, i*0.01, 0.1)\n",
        "  iters.append(iter)\n",
        "plt.plot(np.array(range(1, N))*0.01, iters)"
      ],
      "execution_count": 180,
      "outputs": [
        {
          "output_type": "execute_result",
          "data": {
            "text/plain": [
              "[<matplotlib.lines.Line2D at 0x7f456b0ff690>]"
            ]
          },
          "metadata": {},
          "execution_count": 180
        },
        {
          "output_type": "display_data",
          "data": {
            "image/png": "[encoded data removed]",
            "text/plain": [
              "<Figure size 432x288 with 1 Axes>"
            ]
          },
          "metadata": {
            "needs_background": "light"
          }
        }
      ]
    },
    {
      "cell_type": "code",
      "metadata": {
        "colab": {
          "base_uri": "https://localhost:8080/",
          "height": 282
        },
        "id": "UhchMQ4t7f42",
        "outputId": "08f86f79-74bc-4864-f39d-7c1d01352d43"
      },
      "source": [
        "#зависимость от tau при n=5, alpha = 1\n",
        "iters = []\n",
        "N = 200\n",
        "for i in range(1, N):\n",
        "  A, f = init(5, 1)\n",
        "  x,iter=upper_relaxation(A, f, i*0.01, 0.1)\n",
        "  iters.append(iter)\n",
        "plt.plot(np.array(range(1, N))*0.01, iters)"
      ],
      "execution_count": 182,
      "outputs": [
        {
          "output_type": "execute_result",
          "data": {
            "text/plain": [
              "[<matplotlib.lines.Line2D at 0x7f456afd5390>]"
            ]
          },
          "metadata": {},
          "execution_count": 182
        },
        {
          "output_type": "display_data",
          "data": {
            "image/png": "[encoded data removed]",
            "text/plain": [
              "<Figure size 432x288 with 1 Axes>"
            ]
          },
          "metadata": {
            "needs_background": "light"
          }
        }
      ]
    },
    {
      "cell_type": "code",
      "metadata": {
        "colab": {
          "base_uri": "https://localhost:8080/",
          "height": 285
        },
        "id": "TjX6sorpSJGZ",
        "outputId": "65553bc6-5c1a-4d1a-e5c5-4df69f2c613e"
      },
      "source": [
        "#зависимость от tau при n=70, alpha = 1\n",
        "iters = []\n",
        "N = 200\n",
        "for i in range(1, N):\n",
        "  A, f = init(50, 1)\n",
        "  x,iter=upper_relaxation(A, f, i*0.01, 0.1)\n",
        "  iters.append(iter)\n",
        "plt.plot(np.array(range(1, N))*0.01, iters)"
      ],
      "execution_count": 183,
      "outputs": [
        {
          "output_type": "execute_result",
          "data": {
            "text/plain": [
              "[<matplotlib.lines.Line2D at 0x7f456af57610>]"
            ]
          },
          "metadata": {},
          "execution_count": 183
        },
        {
          "output_type": "display_data",
          "data": {
            "image/png": "[encoded data removed]",
            "text/plain": [
              "<Figure size 432x288 with 1 Axes>"
            ]
          },
          "metadata": {
            "needs_background": "light"
          }
        }
      ]
    },
    {
      "cell_type": "markdown",
      "metadata": {
        "id": "fAyugkZFo8Zy"
      },
      "source": [
        "**6.** Решите систему из задачи 1 с помощью Чебышевского ускорения МПИ."
      ]
    },
    {
      "cell_type": "code",
      "metadata": {
        "id": "tPjRoDn0ryac"
      },
      "source": [
        "def jacobi_cheb(A, f, rho, e): #метод Якоби \n",
        "  x=np.random.random((A.shape[0],1))\n",
        "  D=np.diagflat(np.diag(A))\n",
        "  R=-scl.inv(D)@(A-D)\n",
        "  k=0\n",
        "  mu1=1\n",
        "  mu2=rho\n",
        "  x1=x \n",
        "  x2=R@x+scl.inv(D)@f\n",
        "  muf=rho\n",
        "  while (scl.norm(A@x-f,2)>e)&(scl.norm(A@x-f,2)<1e6):\n",
        "    muf=1/(2/(rho*mu2)-1/(mu1))\n",
        "    x=2*muf/(rho*mu2) *R @ x2 - (muf/mu1) * R @ x1 + (2*muf)/(rho*mu1)*f\n",
        "    x1=x2\n",
        "    mu1=mu2\n",
        "    x2=x\n",
        "    mu2=muf\n",
        "    k+=1\n",
        "  return x"
      ],
      "execution_count": 22,
      "outputs": []
    },
    {
      "cell_type": "code",
      "metadata": {
        "colab": {
          "base_uri": "https://localhost:8080/"
        },
        "id": "Uqrmpn5FtMDv",
        "outputId": "91184344-a393-4018-de21-29fe45cf0efc"
      },
      "source": [
        "A, f = init(12, 0.2)\n",
        "jacobi_cheb(A,f,1.1,0.01)"
      ],
      "execution_count": 23,
      "outputs": [
        {
          "output_type": "execute_result",
          "data": {
            "text/plain": [
              "array([[  76300.29107141],\n",
              "       [-107967.03428691],\n",
              "       [  97677.9668198 ],\n",
              "       [ -53779.47324426],\n",
              "       [ -10518.94490666],\n",
              "       [  78855.29577285],\n",
              "       [-134467.26446338],\n",
              "       [ 164825.80811408],\n",
              "       [-164452.37589276],\n",
              "       [ 136807.09031566],\n",
              "       [ -91718.83406863],\n",
              "       [  42341.14638632]])"
            ]
          },
          "metadata": {},
          "execution_count": 23
        }
      ]
    },
    {
      "cell_type": "markdown",
      "metadata": {
        "id": "GFIWBSr2uyLD"
      },
      "source": [
        "Почему-то расходится."
      ]
    }
  ]
}