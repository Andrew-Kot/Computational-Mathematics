{
  "nbformat": 4,
  "nbformat_minor": 0,
  "metadata": {
    "colab": {
      "name": "B2.ipynb",
      "provenance": [],
      "collapsed_sections": []
    },
    "kernelspec": {
      "display_name": "Python 3",
      "name": "python3"
    },
    "language_info": {
      "name": "python"
    }
  },
  "cells": [
    {
      "cell_type": "markdown",
      "metadata": {
        "id": "XpkL_LB4yGxg"
      },
      "source": [
        "**B2**\n",
        "\n",
        "Коцевич Андрей, Б02-920"
      ]
    },
    {
      "cell_type": "code",
      "metadata": {
        "id": "13b7XQr3yN0N"
      },
      "source": [
        "import numpy as np\n",
        "import scipy.linalg\n",
        "from matplotlib import pyplot as plt"
      ],
      "execution_count": 4,
      "outputs": []
    },
    {
      "cell_type": "markdown",
      "metadata": {
        "id": "85fMTpsTyJ9e"
      },
      "source": [
        "**1.** Напишите функцию, которая по заданному $p$ и вектору $\\mathbf{x}$   вычисляет норму этого вектора:\n",
        "\n",
        "$||\\mathbf{x}||_p = (\\sum\\limits_{i = 1}^{n}|x_i|^p)^{\\frac{1}{p}}$\n",
        "\n",
        "Напишите вторую функцию, которая вычисляет подчинённую этой норме матричную норму данной матрицы, а также число обусловленности."
      ]
    },
    {
      "cell_type": "code",
      "metadata": {
        "colab": {
          "base_uri": "https://localhost:8080/"
        },
        "id": "rSU804bjyXYg",
        "outputId": "f0891d3d-cacb-40dd-f6fa-c716af3a36ff"
      },
      "source": [
        "def vector_p_norm(x, p): #векторная p-норма\n",
        "  return (sum(abs(x) ** p)) ** (p ** -1)\n",
        "\n",
        "def matrix_p_norm(M, p): #матричная p-норма\n",
        "  n, m = M.shape\n",
        "  N = 0\n",
        "  for i in range(1000):\n",
        "    v = np.random.uniform(-1, 1, size=[n, 1])\n",
        "    N = max(N, vector_p_norm(M@v, p)/vector_p_norm(v, p))\n",
        "  return(N)\n",
        "\n",
        "M = np.array([[1, 1],[2, 5]])\n",
        "print(matrix_p_norm(M, 1))"
      ],
      "execution_count": null,
      "outputs": [
        {
          "output_type": "stream",
          "name": "stdout",
          "text": [
            "[5.99996188]\n"
          ]
        }
      ]
    },
    {
      "cell_type": "markdown",
      "metadata": {
        "id": "2VVSeM-VYOrP"
      },
      "source": [
        "Значение $l_1$ близко к точному."
      ]
    },
    {
      "cell_type": "markdown",
      "metadata": {
        "id": "MoBvkplbGBBx"
      },
      "source": [
        "**2.** Напишите программу для вычисления нормы Фробениуса матрицы с помощью SVD разложения. В ходе экспериментов со случайными матрицами убедитесь в выполнении неравенств \n",
        "\n",
        "\\begin{aligned}\n",
        "&\n",
        "&\\frac{1}{\\sqrt{n}}\\|\\mathbf{A}\\|_{F} \\leq\\|\\mathbf{A}\\|_{2} \\leq\\|\\mathbf{A}\\|_{F}\n",
        "\\end{aligned}  \n",
        "\n",
        "Запустите много экспериментов для матриц малой размерности. Вычислите среднее значение отношения спектральной нормы к норме Фробениуса. Проверьте экспериментально, как зависит это отношение от $n$."
      ]
    },
    {
      "cell_type": "code",
      "metadata": {
        "id": "PWur-qjtzdLS"
      },
      "source": [
        "def frobenius_norm(M): #норма Фробениуса\n",
        "    u, s, vh = np.linalg.svd(M)\n",
        "    return np.sum(s ** 2) ** 0.5"
      ],
      "execution_count": null,
      "outputs": []
    },
    {
      "cell_type": "code",
      "metadata": {
        "colab": {
          "base_uri": "https://localhost:8080/"
        },
        "id": "7jNTnkbsI0kX",
        "outputId": "ec759bcf-3347-47cf-cab5-18157ea60f56"
      },
      "source": [
        "N = 10000\n",
        "right_cases = 0\n",
        "for i in range(N):\n",
        "    n = np.random.randint(2, 10)\n",
        "    M = np.random.uniform(-100, 100, size=[n, n])\n",
        "    w, v = scipy.linalg.eig(M.T @ M)\n",
        "    if n**(-0.5)*frobenius_norm(M) <= (np.max(np.abs(w)))**0.5 <= frobenius_norm(M):\n",
        "        right_cases += 1\n",
        "print(f\"Равенство верно в {right_cases/N*100}% случаев\")"
      ],
      "execution_count": null,
      "outputs": [
        {
          "output_type": "stream",
          "name": "stdout",
          "text": [
            "Равенство верно в 100.0% случаев\n"
          ]
        }
      ]
    },
    {
      "cell_type": "code",
      "metadata": {
        "colab": {
          "base_uri": "https://localhost:8080/",
          "height": 282
        },
        "id": "QKGECv7OMLrb",
        "outputId": "40d4d82e-a2cf-4906-c6f9-b11ad221717e"
      },
      "source": [
        "N = 100\n",
        "a = []\n",
        "for i in range(1, N):\n",
        "    b = 0\n",
        "    for j in range(N):\n",
        "        M = np.random.uniform(-100, 100, size=[i, i])\n",
        "        w, v = scipy.linalg.eig(M.T @ M)\n",
        "        b += (np.max(np.abs(w)))**0.5 / frobenius_norm(M)\n",
        "    b /= N\n",
        "    a.append(b)\n",
        "plt.plot(np.array(range(1, N)), a)"
      ],
      "execution_count": null,
      "outputs": [
        {
          "output_type": "execute_result",
          "data": {
            "text/plain": [
              "[<matplotlib.lines.Line2D at 0x7f8094237150>]"
            ]
          },
          "metadata": {},
          "execution_count": 5
        },
        {
          "output_type": "display_data",
          "data": {
            "image/png": "[encoded data removed]",
            "text/plain": [
              "<Figure size 432x288 with 1 Axes>"
            ]
          },
          "metadata": {
            "needs_background": "light"
          }
        }
      ]
    },
    {
      "cell_type": "markdown",
      "metadata": {
        "id": "3UotYZudcip3"
      },
      "source": [
        "Как видно, среднее значение отношения спектральной нормы к норме Фробениуса уменьшается при увеличении $n$.\n",
        "\n"
      ]
    },
    {
      "cell_type": "markdown",
      "metadata": {
        "id": "U3sGdJyAOK17"
      },
      "source": [
        "**3.** Генерация случайных величин с заранее заданной ковариационной матрицей.   \n",
        "\n",
        "Разложение Холецкого используется для генерации коррелированных между собой случайных величин. \n",
        "Проще говоря, когда есть какой-то набор независимых случайных величин и ковариационная матрица. Как из этого получить набор случайных величин, имеющих такую ковариационную матрицу? \n",
        "\n",
        "Это нужно как для моделирования случайных сигналов и физических процессов, так и в качестве вспомогательного элемента других вычислительных методов (Монте-Карло).\n",
        "\n",
        "Решение этой задачи делается с помощью разложения Холецкого.  Алгоритм заключается в следующем: \n",
        "\n",
        "1. Осуществить разложение Холецкого ковариационной матрицы: \n",
        "$\\mathbf{Σ} = \\mathbf{A} \\mathbf{A}^{T} $\n",
        "2. Сгенерировать случайный вектор $\\mathbf{z}$, компонентами которого являются независимые случайные величины с нормальным распределением\n",
        "3. Решением поставленной задачи будет вектор: \n",
        "\n",
        "      $\\mathbf{x} = \\mathbf{m} + \\mathbf{Az}$\n",
        "\n",
        "      Здесь $\\mathbf{m}$ - это постоянный вектор, составленный из математических ожиданий компонент вектора $\\mathbf{z}$.\n",
        "\n",
        "\n",
        "Напишите функцию, которая в качестве входного параметра берёт ковариационную матрицу, а возвращает набор случайных величин, действуя по описанному выше алгоритму.\n"
      ]
    },
    {
      "cell_type": "code",
      "metadata": {
        "colab": {
          "base_uri": "https://localhost:8080/"
        },
        "id": "4ztYMllTM5Bu",
        "outputId": "b88b2454-1dca-44e4-8d70-1c14660d512f"
      },
      "source": [
        "def random_number_generator(M): #генератор случайных величин с заданной ковариацией\n",
        "    A = np.linalg.cholesky(M)\n",
        "    n = M.shape[0]\n",
        "    z = np.random.normal(0,1,n)\n",
        "    return A@z\n",
        "  \n",
        "M = np.array([[1000,80,0],[0,10,0],[4,0,1]])\n",
        "random_number_generator(M)"
      ],
      "execution_count": null,
      "outputs": [
        {
          "output_type": "execute_result",
          "data": {
            "text/plain": [
              "array([2.12890898, 1.22424618, 0.12091601])"
            ]
          },
          "metadata": {},
          "execution_count": 6
        }
      ]
    },
    {
      "cell_type": "markdown",
      "metadata": {
        "id": "OUiHC9z5pMr4"
      },
      "source": [
        "**4.** Прокрустово преобразование.  \n",
        "\n",
        "Цель задания - максимально хорошо \"подогнать\" одну фигуру под другую трансляцией плоскости и поворотом.\n",
        "\n",
        "Пусть $\\mathbf{X}_{1}$ и $\\mathbf{X}_{2}-n \\times 2$ матрицы, содержащие $n \\ x, y$-координат точек первой и второй фигур соответственно. Задача сводится к минимизации \"прокрустова расстояния\" между фигурами $min(\\vec{\\mu}, \\mathbf{R})\\left\\|\\mathbf{X}_{2}-\\left(\\mathbf{X}_{1} \\mathbf{R}-\\mathbf{1} \\vec{\\mu}^{T}\\right)\\right\\|_{F}$, где \n",
        "$\\|\\mathbf{X}\\|_{F}=\\operatorname{tr}\\left(\\mathbf{X}^{T} \\mathbf{X}\\right)-$ норма Фробениуса, \n",
        "\n",
        "$\\mathbf{R}-2 \\times 2$ ортогональная матрица поворота, \n",
        "\n",
        "$\\vec{\\mu}$ - двумерный вектор трансляции в плоскости, \n",
        "\n",
        "$\\mathbf{1}$ - столбец из $n$ единиц.\n",
        "\n",
        "\n",
        "Пусть $\\bar{x}_{1}, \\bar{x}_{2}-$ двумерные векторы, содержащие среднее по каждому из двух столбцов матриц $\\mathbf{X}_{1}$ и $\\mathbf{X}_{2} .$ Центрируем $\\mathbf{X}_{1}$ и $\\mathbf{X}_{2}$ , то есть вычтем из них среднее по столбцам, и используем SVD:   \n",
        "\n",
        "\\begin{gathered}\n",
        "\\widetilde{\\boldsymbol{X}}_{1}=\\boldsymbol{X}_{\\mathbf{1}}-\\mathbf{1} \\cdot \\tilde{\\mathrm{x}}_{1}^{\\mathrm{T}}, \\quad \\widetilde{\\boldsymbol{X}}_{2}=\\boldsymbol{X}_{2}-\\mathbf{1} \\cdot \\tilde{\\mathrm{x}}_{2}^{\\mathrm{T}}\n",
        " \\\\\n",
        " \\widetilde{\\boldsymbol{X}}_{1}^{\\mathrm{T}} \\widetilde{\\boldsymbol{X}}_{2}=\\mathbf{U D V}^{\\mathrm{T}}\n",
        "\\end{gathered}\n",
        "\n",
        "Тогда решение поставленной задачи даётся формулами:\n",
        "\n",
        "$$\n",
        "\\vec{\\mu}=\\bar{x}_{2}-\\mathbf{R}^{T} \\bar{x}_{1}, \\quad \\mathbf{R}=\\mathbf{U V}^{T}\n",
        "$$\n",
        "\n",
        "Используя эти формулы, напишите программу, которая подгоняет одну фигуру под другую и визуализирует результат. Постройте три частных примера - когда фигуры одинаковые, когда они отличаются незначительно и когда они отличаются сильно, чтобы показать результаты работы вашей программы."
      ]
    },
    {
      "cell_type": "code",
      "metadata": {
        "id": "JCzfpL45fyeh"
      },
      "source": [
        "def procrust_transform(A1, A2):\n",
        "    mean1 = np.mean(A1, axis=0)\n",
        "    mean2 = np.mean(A2, axis=0)\n",
        "    A1new = A1 - mean1\n",
        "    A2new = A2 - mean2\n",
        "    u, s, vh = np.linalg.svd(A1new.T @ A2new)\n",
        "    R = u @ vh\n",
        "    mu = mean2 - R.T @ mean1\n",
        "    A1trans = A1@R+mu\n",
        "    x1 = A1[:, 0]\n",
        "    y1 = A1[:, 1]\n",
        "    x2 = A2[:, 0]\n",
        "    y2 = A2[:, 1]\n",
        "    X1 = A1trans[:, 0]\n",
        "    Y1 = A1trans[:, 1]\n",
        "    fig, axs = plt.subplots(1, 2, figsize=(8, 4))\n",
        "    axs[0].scatter(x1, y1)\n",
        "    axs[0].scatter(x2, y2)\n",
        "    axs[1].scatter(X1, Y1)\n",
        "    axs[1].scatter(x2, y2)\n",
        "    plt.show()"
      ],
      "execution_count": 7,
      "outputs": []
    },
    {
      "cell_type": "code",
      "source": [
        "x = np.linspace(0, 3.5, 100)\n",
        "y = x\n",
        "M1 = np.vstack([x, y]).T\n",
        "x = np.linspace(0, 3.5, 100)\n",
        "y = -x+5\n",
        "M2 = np.vstack([x, y]).T\n",
        "procrust_transform(M1, M2)"
      ],
      "metadata": {
        "colab": {
          "base_uri": "https://localhost:8080/",
          "height": 265
        },
        "id": "NjVMDw9-UsN-",
        "outputId": "de139443-ab74-4780-a051-e9d75acc98b0"
      },
      "execution_count": 39,
      "outputs": [
        {
          "output_type": "display_data",
          "data": {
            "image/png": "[encoded data removed]",
            "text/plain": [
              "<Figure size 576x288 with 2 Axes>"
            ]
          },
          "metadata": {
            "needs_background": "light"
          }
        }
      ]
    },
    {
      "cell_type": "markdown",
      "source": [
        "Полное совпадение."
      ],
      "metadata": {
        "id": "RDK5WMNZeWYc"
      }
    },
    {
      "cell_type": "code",
      "source": [
        "x = np.linspace(0, 3.5, 100)\n",
        "y = x+0.5*x*x\n",
        "M1 = np.vstack([x, y]).T\n",
        "x = np.linspace(0, 3.5, 100)\n",
        "y = -x+5\n",
        "M2 = np.vstack([x, y]).T\n",
        "procrust_transform(M1, M2)"
      ],
      "metadata": {
        "colab": {
          "base_uri": "https://localhost:8080/",
          "height": 267
        },
        "id": "xTxIXz9ocnVO",
        "outputId": "2cc3ab34-b863-4e09-d423-e3e84967fb60"
      },
      "execution_count": 43,
      "outputs": [
        {
          "output_type": "display_data",
          "data": {
            "image/png": "[encoded data removed]",
            "text/plain": [
              "<Figure size 576x288 with 2 Axes>"
            ]
          },
          "metadata": {
            "needs_background": "light"
          }
        }
      ]
    },
    {
      "cell_type": "markdown",
      "source": [
        "Немного отличаются."
      ],
      "metadata": {
        "id": "NG0U5OrIhe7P"
      }
    },
    {
      "cell_type": "code",
      "source": [
        "x = np.linspace(0, 3.5, 100)\n",
        "y = 5*np.sin(x)\n",
        "M1 = np.vstack([x, y]).T\n",
        "x = np.linspace(0, 3.5, 100)\n",
        "y = -x+x**2\n",
        "M2 = np.vstack([x, y]).T\n",
        "procrust_transform(M1, M2)"
      ],
      "metadata": {
        "colab": {
          "base_uri": "https://localhost:8080/",
          "height": 265
        },
        "id": "oUsz6kjiegMe",
        "outputId": "9ba65d9e-45bd-44bf-b86b-f068e1491f32"
      },
      "execution_count": 53,
      "outputs": [
        {
          "output_type": "display_data",
          "data": {
            "image/png": "[encoded data removed]",
            "text/plain": [
              "<Figure size 576x288 with 2 Axes>"
            ]
          },
          "metadata": {
            "needs_background": "light"
          }
        }
      ]
    },
    {
      "cell_type": "markdown",
      "source": [
        "Сильное отличие."
      ],
      "metadata": {
        "id": "Bx8PRyOBe8Vp"
      }
    }
  ]
}