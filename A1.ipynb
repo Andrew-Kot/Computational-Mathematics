{
  "nbformat": 4,
  "nbformat_minor": 0,
  "metadata": {
    "colab": {
      "name": "A1.ipynb",
      "provenance": [],
      "collapsed_sections": []
    },
    "kernelspec": {
      "display_name": "Python 3",
      "name": "python3"
    },
    "language_info": {
      "name": "python"
    }
  },
  "cells": [
    {
      "cell_type": "markdown",
      "metadata": {
        "id": "MhaEAC5v9R4V"
      },
      "source": [
        "**A1**\n",
        "\n",
        "Коцевич Андрей, Б02-920"
      ]
    },
    {
      "cell_type": "markdown",
      "metadata": {
        "id": "YjqgPeVzwKD8"
      },
      "source": [
        "**1. Numpy**"
      ]
    },
    {
      "cell_type": "code",
      "metadata": {
        "id": "vGgPOZQQwWwC"
      },
      "source": [
        "import numpy as np"
      ],
      "execution_count": null,
      "outputs": []
    },
    {
      "cell_type": "markdown",
      "metadata": {
        "id": "a099PCLy5QkS"
      },
      "source": [
        "**1.** Пусть у двух матриц совпадает количество строк. Объедините их в одну горизонтально (объедините столбцы этих матриц)."
      ]
    },
    {
      "cell_type": "code",
      "metadata": {
        "colab": {
          "base_uri": "https://localhost:8080/"
        },
        "id": "xOantn5C2glA",
        "outputId": "32a68571-056f-4f0e-897a-c06c068d7cc7"
      },
      "source": [
        "a = np.random.random((2,2))\n",
        "b = np.random.random((2,2))\n",
        "a, b, np.hstack((a,b))"
      ],
      "execution_count": null,
      "outputs": [
        {
          "output_type": "execute_result",
          "data": {
            "text/plain": [
              "(array([[0.16265974, 0.78521667],\n",
              "        [0.06195103, 0.09405335]]), array([[0.69000041, 0.9574827 ],\n",
              "        [0.31829601, 0.4100286 ]]), array([[0.16265974, 0.78521667, 0.69000041, 0.9574827 ],\n",
              "        [0.06195103, 0.09405335, 0.31829601, 0.4100286 ]]))"
            ]
          },
          "metadata": {},
          "execution_count": 28
        }
      ]
    },
    {
      "cell_type": "markdown",
      "metadata": {
        "id": "-bVisg__8syV"
      },
      "source": [
        "**2.** Пусть дана numpy-матрица M и два массива индексов a,b одинаковой длины.Постройте массив элементов M[a[0],b[0]], M[a[1],b[1]], ... Указание: для выполнения этой операции не требуется никаких именных функций."
      ]
    },
    {
      "cell_type": "code",
      "metadata": {
        "colab": {
          "base_uri": "https://localhost:8080/"
        },
        "id": "Rrnbg-3n8q5c",
        "outputId": "62428cf6-baa4-4fb5-a6cf-7e7305659c75"
      },
      "source": [
        "M = np.random.random((5,5))\n",
        "a = np.array([1,2,3])\n",
        "b = np.array([2,3,4])\n",
        "M, M[a,b]"
      ],
      "execution_count": null,
      "outputs": [
        {
          "output_type": "execute_result",
          "data": {
            "text/plain": [
              "(array([[0.22909811, 0.05756936, 0.0140251 , 0.05216296, 0.18092028],\n",
              "        [0.93324125, 0.7069339 , 0.05892472, 0.55128321, 0.31310066],\n",
              "        [0.60086789, 0.72430123, 0.09371011, 0.08075687, 0.63914188],\n",
              "        [0.30424791, 0.86458368, 0.83585948, 0.20552752, 0.47459586],\n",
              "        [0.87726064, 0.54082028, 0.10063352, 0.59499593, 0.5638298 ]]),\n",
              " array([0.05892472, 0.08075687, 0.47459586]))"
            ]
          },
          "metadata": {},
          "execution_count": 27
        }
      ]
    },
    {
      "cell_type": "markdown",
      "metadata": {
        "id": "Sqyc8PeeFZwZ"
      },
      "source": [
        "**3.** Подсчитайте след матрицы и количество ненулевых элементов на её диагонали."
      ]
    },
    {
      "cell_type": "code",
      "metadata": {
        "colab": {
          "base_uri": "https://localhost:8080/"
        },
        "id": "uPnl5XvbEaHY",
        "outputId": "6e380b46-8456-45bb-cf6f-6049b200681f"
      },
      "source": [
        "A = np.array([[1,3,5],\n",
        "              [8,0,4],\n",
        "              [7,3,5]])\n",
        "print(A,f\"\\n След матрицы A: {np.trace(A)},\\n Число ненулевых элементов на диагонали: {np.count_nonzero(np.diag(A))}\")"
      ],
      "execution_count": null,
      "outputs": [
        {
          "output_type": "stream",
          "name": "stdout",
          "text": [
            "[[1 3 5]\n",
            " [8 0 4]\n",
            " [7 3 5]] \n",
            " След матрицы A: 6,\n",
            " Число ненулевых элементов на диагонали: 2\n"
          ]
        }
      ]
    },
    {
      "cell_type": "markdown",
      "metadata": {
        "id": "Fr5vAtuOGhNy"
      },
      "source": [
        "**4.** Дан тензор произвольной размерности с целочисленными элементами. Определите набор элементов тензора без повторений и подсчитайте количество вхождений каждого из этих чисел в исходный тензор."
      ]
    },
    {
      "cell_type": "code",
      "metadata": {
        "id": "ikVHGRr2GHIT",
        "colab": {
          "base_uri": "https://localhost:8080/"
        },
        "outputId": "cef1d138-8128-43da-e610-3f4e4b132485"
      },
      "source": [
        "T = np.random.randint(0, 20, (3,3))\n",
        "unique, counts = np.unique(T, return_counts=True)\n",
        "T, unique, counts"
      ],
      "execution_count": null,
      "outputs": [
        {
          "output_type": "execute_result",
          "data": {
            "text/plain": [
              "(array([[17, 14,  8],\n",
              "        [ 2,  9,  6],\n",
              "        [10, 16, 10]]),\n",
              " array([ 2,  6,  8,  9, 10, 14, 16, 17]),\n",
              " array([1, 1, 1, 1, 2, 1, 1, 1]))"
            ]
          },
          "metadata": {},
          "execution_count": 34
        }
      ]
    },
    {
      "cell_type": "markdown",
      "metadata": {
        "id": "FEtDIYM1nyE8"
      },
      "source": [
        "**5.** Даны два произвольных numpy-массива одинаковой размерности (n,m). Замените нулями те элементы второго массива, для которых на соответствующем месте в первом массиве находятся отрицательные числа."
      ]
    },
    {
      "cell_type": "code",
      "metadata": {
        "colab": {
          "base_uri": "https://localhost:8080/"
        },
        "id": "QErslbi1n2Jv",
        "outputId": "02dbce53-344d-4c95-bbb2-3f69bcd7a598"
      },
      "source": [
        "n = 3\n",
        "m = 3\n",
        "A = np.random.random((n,m))-1/2\n",
        "B = np.random.random((n,m))\n",
        "B[A < 0] = 0\n",
        "A, B"
      ],
      "execution_count": null,
      "outputs": [
        {
          "output_type": "execute_result",
          "data": {
            "text/plain": [
              "(array([[ 0.21491309,  0.10010544, -0.18285432],\n",
              "        [ 0.35961982, -0.39512051, -0.1169656 ],\n",
              "        [ 0.24440061, -0.05305679, -0.34569458]]),\n",
              " array([[0.725106  , 0.13625733, 0.        ],\n",
              "        [0.07253611, 0.        , 0.        ],\n",
              "        [0.08631604, 0.        , 0.        ]]))"
            ]
          },
          "metadata": {},
          "execution_count": 36
        }
      ]
    },
    {
      "cell_type": "markdown",
      "metadata": {
        "id": "-H3ruo9G3-Ka"
      },
      "source": [
        "**6.** Дана матрица. Вычтете из каждого столбца среднее по столбцу. После этого разделите каждый столбец на корень из суммы квадратов его элементов. Если столбец нулевой, то оставьте его нулевым."
      ]
    },
    {
      "cell_type": "code",
      "metadata": {
        "id": "AvICfVEuoVSL",
        "colab": {
          "base_uri": "https://localhost:8080/"
        },
        "outputId": "7cc73099-ab21-4f6a-844f-64245382e5de"
      },
      "source": [
        "A = np.random.random((3,3))\n",
        "A = A-np.mean(A, axis=0)\n",
        "s = np.linalg.norm(A, axis=0)\n",
        "s[s==0] = 1\n",
        "A /= s\n",
        "A"
      ],
      "execution_count": null,
      "outputs": [
        {
          "output_type": "execute_result",
          "data": {
            "text/plain": [
              "array([[ 0.16179443,  0.27919857,  0.54499015],\n",
              "       [ 0.61218786,  0.52488256, -0.79903026],\n",
              "       [-0.77398229, -0.80408113,  0.25404011]])"
            ]
          },
          "metadata": {},
          "execution_count": 25
        }
      ]
    },
    {
      "cell_type": "markdown",
      "metadata": {
        "id": "KpwDPHSY9AZX"
      },
      "source": [
        "**7.** Даны две матрицы с одинаковым количеством строк и количеством столбцов n и m соответственно. Постройте матрицу n×m всевозможных произведений столбцов друг на друга (в смысле скалярного произведения)."
      ]
    },
    {
      "cell_type": "code",
      "metadata": {
        "colab": {
          "base_uri": "https://localhost:8080/"
        },
        "id": "RuxWdJyk466H",
        "outputId": "1a3e6ad5-daf0-46ce-9a3c-6b6e5e4f7b8a"
      },
      "source": [
        "n = 3\n",
        "m = 4\n",
        "A = np.random.random((n,m))\n",
        "B = np.random.random((n,m))\n",
        "C = A.T @ B\n",
        "C"
      ],
      "execution_count": null,
      "outputs": [
        {
          "output_type": "execute_result",
          "data": {
            "text/plain": [
              "array([[0.68916059, 1.38764842, 0.60273677, 0.99950008],\n",
              "       [1.28135549, 2.14891534, 0.87527818, 1.19221116],\n",
              "       [0.91648921, 1.46351503, 0.57103422, 0.68181939],\n",
              "       [0.9216796 , 1.65540212, 0.71167981, 1.11261139]])"
            ]
          },
          "metadata": {},
          "execution_count": 45
        }
      ]
    },
    {
      "cell_type": "markdown",
      "metadata": {
        "id": "cgVvFQSbCzoT"
      },
      "source": [
        "**8.** Постройте график времени выполнения операции матричного умножения двух случайных матриц NxN как функции N при выполнении этой операции i) с помощью numpy; ii)с помощью цикла for в питоне."
      ]
    },
    {
      "cell_type": "code",
      "metadata": {
        "id": "_9hb95n_pmOb"
      },
      "source": [
        "import time\n",
        "from matplotlib import pyplot as plt"
      ],
      "execution_count": null,
      "outputs": []
    },
    {
      "cell_type": "code",
      "metadata": {
        "id": "ThqRdaDv46xL"
      },
      "source": [
        "def TimeNumpy(N): #время выполнения в NumPy\n",
        "  T = 0\n",
        "  for i in range(1, 1000):\n",
        "    A = np.random.random((N,N))\n",
        "    B = np.random.random((N,N))\n",
        "    t1 = time.time()\n",
        "    C = A @ B\n",
        "    t2 = time.time()\n",
        "    T += t2 - t1\n",
        "  return T/1000\n",
        "def TimeFor(N):\n",
        "  T = 0\n",
        "  for i in range(0, 5):\n",
        "    A = np.random.random((N,N))\n",
        "    B = np.random.random((N,N))\n",
        "    C = np.random.random((N,N))\n",
        "    t1 = time.time()\n",
        "    for j in range(N):\n",
        "      for k in range(N):\n",
        "        q = 0\n",
        "        for l in range (1, N):\n",
        "          q += A[j][l] * B[:,k][l]\n",
        "        C[j,k] = q\n",
        "    t2 = time.time()\n",
        "    T += t2 - t1\n",
        "  return T/5"
      ],
      "execution_count": null,
      "outputs": []
    },
    {
      "cell_type": "code",
      "metadata": {
        "id": "WCpzJsK5_4lk",
        "colab": {
          "base_uri": "https://localhost:8080/",
          "height": 350
        },
        "outputId": "45bcb303-39f8-431f-b544-28d52558c11e"
      },
      "source": [
        "xnum = [i+1 for i in range(100)]\n",
        "ynum = list(map(TimeNumpy, xnum))\n",
        "xfor = [i+1 for i in range(100)]\n",
        "yfor = list(map(TimeFor, xfor))\n",
        "\n",
        "plt.figure(figsize=(5,5))\n",
        "plt.title('Время выполнения операции матричного умножения')\n",
        "\n",
        "plt.plot(xnum, ynum, c='blue', label='NumPy')\n",
        "plt.plot(xfor, yfor, c='green', label='For')\n",
        "\n",
        "#plt.xlim(0, 100)\n",
        "#plt.ylim(-1, 0.9)\n",
        "plt.xlabel('x')\n",
        "plt.ylabel('y')\n",
        "plt.legend()\n",
        "plt.show()"
      ],
      "execution_count": null,
      "outputs": [
        {
          "output_type": "display_data",
          "data": {
            "image/png": "[encoded data removed]",
            "text/plain": [
              "<Figure size 360x360 with 1 Axes>"
            ]
          },
          "metadata": {
            "needs_background": "light"
          }
        }
      ]
    },
    {
      "cell_type": "markdown",
      "metadata": {
        "id": "WBxBDzVASIH4"
      },
      "source": [
        "**2. Matplotlib**"
      ]
    },
    {
      "cell_type": "markdown",
      "metadata": {
        "id": "vVBf4i3fSiqf"
      },
      "source": [
        "**1.** Постройте таблицу 2×2 из четырех графиков (см. функцию plt.subplots)."
      ]
    },
    {
      "cell_type": "code",
      "metadata": {
        "colab": {
          "base_uri": "https://localhost:8080/",
          "height": 592
        },
        "id": "F5ap_dQ3LNWt",
        "outputId": "6a3ca857-4a80-417a-f5a4-6de26587ba0e"
      },
      "source": [
        "x = np.linspace(0, 1, 50)\n",
        "y1 = x-2\n",
        "y2 = np.exp(x)\n",
        "y3 = np.log(1/(1+x))\n",
        "y4 = x**x\n",
        "\n",
        "fig, ax = plt.subplots(2,2, figsize=(10,10))\n",
        "\n",
        "ax[0][0].plot(x, y1, label='1')\n",
        "ax[0][1].plot(x, y2, label='2')\n",
        "ax[1][0].plot(x, y3, label='3')\n",
        "ax[1][1].plot(x, y4, label='4')\n",
        "\n",
        "plt.show()"
      ],
      "execution_count": null,
      "outputs": [
        {
          "output_type": "display_data",
          "data": {
            "image/png": "[encoded data removed]",
            "text/plain": [
              "<Figure size 720x720 with 4 Axes>"
            ]
          },
          "metadata": {
            "needs_background": "light"
          }
        }
      ]
    },
    {
      "cell_type": "markdown",
      "metadata": {
        "id": "vTqOEot0X1QW"
      },
      "source": [
        "**2.** Постройте график из какой-нибудь лабораторной работы с крестами ошибок."
      ]
    },
    {
      "cell_type": "code",
      "metadata": {
        "colab": {
          "base_uri": "https://localhost:8080/",
          "height": 265
        },
        "id": "wf7AlOiSZF5W",
        "outputId": "e1d6650b-e726-4f61-a801-63485469d945"
      },
      "source": [
        "x = np.arange(0, 101, 10)\n",
        "y = np.array([205, 304, 433, 508, 598, 725, 804, 985, 1037, 1120, 1350])\n",
        "plt.errorbar(x, y, xerr=x*0.05, yerr=y*0.05)\n",
        "plt.show()"
      ],
      "execution_count": null,
      "outputs": [
        {
          "output_type": "display_data",
          "data": {
            "image/png": "[encoded data removed]",
            "text/plain": [
              "<Figure size 432x288 with 1 Axes>"
            ]
          },
          "metadata": {
            "needs_background": "light"
          }
        }
      ]
    },
    {
      "cell_type": "markdown",
      "metadata": {
        "id": "mX_FdEuAWnzH"
      },
      "source": [
        "**3.** Постройте график в логарифмическом масштабе без явного вычисления логарифмов."
      ]
    },
    {
      "cell_type": "code",
      "metadata": {
        "colab": {
          "base_uri": "https://localhost:8080/",
          "height": 269
        },
        "id": "tw3BbYUQWMJc",
        "outputId": "6b283b2f-df13-4917-cd31-b40892fae53e"
      },
      "source": [
        "x = np.linspace(0, 100, 1000)\n",
        "y = np.sqrt(x)\n",
        "\n",
        "plt.plot(x, y)\n",
        "plt.yscale('log')\n",
        "plt.xscale('log')\n",
        "plt.show()"
      ],
      "execution_count": null,
      "outputs": [
        {
          "output_type": "display_data",
          "data": {
            "image/png": "[encoded data removed]",
            "text/plain": [
              "<Figure size 432x288 with 1 Axes>"
            ]
          },
          "metadata": {
            "needs_background": "light"
          }
        }
      ]
    },
    {
      "cell_type": "markdown",
      "metadata": {
        "id": "xB9afWYLW9tN"
      },
      "source": [
        "**3. Вигнеровский полукруг**"
      ]
    },
    {
      "cell_type": "markdown",
      "metadata": {
        "id": "wDpxFuVnYR-0"
      },
      "source": [
        "**1.** Сгенерируйте случайную матрицу N×N,в которой каждый элемент взят из гауссового нормального распределения с постоянными параметрами. Сделайте из этой матрицы симметричную, добавив к ней её транспонированную. Постройте гистограмму собственных значений получившейся матрицы(подберите достаточно большое N и удачное количество бинов). Повторите эксперимент 50 раз (здесь цикл разрешается) и отобразите разброс высоты каждого бина гистограммы с помощью креста ошибок."
      ]
    },
    {
      "cell_type": "code",
      "metadata": {
        "colab": {
          "base_uri": "https://localhost:8080/",
          "height": 265
        },
        "id": "uIMssfjezyhG",
        "outputId": "afca8ed0-451a-4129-c183-67bb8219b332"
      },
      "source": [
        "N = 1000\n",
        "A = np.random.normal(size=(N,N))\n",
        "A = A + A.T\n",
        "eighs, _ = np.linalg.eigh(A)\n",
        "plt.hist(eighs, bins=50, label=\"eigenvalues\")\n",
        "plt.legend()\n",
        "plt.show()"
      ],
      "execution_count": null,
      "outputs": [
        {
          "output_type": "display_data",
          "data": {
            "image/png": "[encoded data removed]",
            "text/plain": [
              "<Figure size 432x288 with 1 Axes>"
            ]
          },
          "metadata": {
            "needs_background": "light"
          }
        }
      ]
    },
    {
      "cell_type": "code",
      "metadata": {
        "colab": {
          "base_uri": "https://localhost:8080/",
          "height": 499
        },
        "id": "nVuyBzu20ML_",
        "outputId": "43fbf6b1-3fa3-4c36-9993-64288b778dbd"
      },
      "source": [
        "N=300\n",
        "fig, ax = plt.subplots(1, 1, figsize=(8, 8))\n",
        "bins =  np.linspace(-45, 45, 50+1)\n",
        "centers = 0.5*(bins[1:] + bins[:-1])\n",
        "M = np.random.normal(size=(N, N));\n",
        "M = np.transpose(M) + M\n",
        "eighs, _ = np.linalg.eig(M)\n",
        "y, _ = np.histogram(eighs, bins=bins)\n",
        "eighs_all = [y]\n",
        "for i in range (0,50):\n",
        "  A = np.random.normal(size=(N,N))\n",
        "  A = A + A.T\n",
        "  eighs, _ = np.linalg.eigh(A)\n",
        "  bins = np.linspace(-45, 45, 50+1)\n",
        "  y, _ = np.histogram(eighs, bins=bins)\n",
        "  eighs_all = np.concatenate((eighs_all,[y]),0)\n",
        "mean = np.mean(eighs_all, 0)\n",
        "error = np.std(eighs_all, 0)\n",
        "plt.errorbar(centers, mean, yerr = error)\n",
        "plt.title('Вигнеровский полукруг')\n",
        "plt.show()"
      ],
      "execution_count": null,
      "outputs": [
        {
          "output_type": "display_data",
          "data": {
            "image/png": "[encoded data removed]",
            "text/plain": [
              "<Figure size 576x576 with 1 Axes>"
            ]
          },
          "metadata": {
            "needs_background": "light"
          }
        }
      ]
    },
    {
      "cell_type": "markdown",
      "metadata": {
        "id": "BJN66PQ4nfT7"
      },
      "source": [
        "**2.** Постройте гистограмму расстояний ρ между ближайшими собственными числами матрицы. С помощью неё определите, какое разложение вблизи ρ=0 имеет плотность вероятности ρ?"
      ]
    },
    {
      "cell_type": "code",
      "metadata": {
        "id": "9ZimkCzSZfdi",
        "colab": {
          "base_uri": "https://localhost:8080/",
          "height": 265
        },
        "outputId": "068f87d5-7a52-44e4-ccde-058f78c78fa7"
      },
      "source": [
        "N = 2500\n",
        "M = np.random.normal(size=(N, N));\n",
        "M = np.transpose(M) + M\n",
        "eigs, _ = np.linalg.eig(M)\n",
        "sort_eigs = np.sort(eigs)\n",
        "y1 = sort_eigs[1:]\n",
        "y2 = sort_eigs[:-1]\n",
        "y = y1 - y2\n",
        "plt.hist(y, bins=100)\n",
        "plt.show()"
      ],
      "execution_count": null,
      "outputs": [
        {
          "output_type": "display_data",
          "data": {
            "image/png": "[encoded data removed]",
            "text/plain": [
              "<Figure size 432x288 with 1 Axes>"
            ]
          },
          "metadata": {
            "needs_background": "light"
          }
        }
      ]
    },
    {
      "cell_type": "markdown",
      "metadata": {
        "id": "UKEIs21koPdS"
      },
      "source": [
        "Возможно, вблизи ρ=0 будет разложение ρ будет степенной функцией."
      ]
    },
    {
      "cell_type": "code",
      "metadata": {
        "id": "gH6Wp63eoD3m"
      },
      "source": [
        ""
      ],
      "execution_count": null,
      "outputs": []
    }
  ]
}