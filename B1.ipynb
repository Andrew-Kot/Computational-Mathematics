{
  "nbformat": 4,
  "nbformat_minor": 0,
  "metadata": {
    "colab": {
      "name": "B1.ipynb",
      "provenance": []
    },
    "kernelspec": {
      "name": "python3",
      "display_name": "Python 3"
    },
    "language_info": {
      "name": "python"
    }
  },
  "cells": [
    {
      "cell_type": "markdown",
      "metadata": {
        "id": "xTOsYJXNp8nN"
      },
      "source": [
        "**B1**\n",
        "\n",
        "Коцевич Андрей, Б02-920"
      ]
    },
    {
      "cell_type": "code",
      "metadata": {
        "id": "bC1sKB-QsB2g"
      },
      "source": [
        "import numpy as np\n",
        "import scipy.linalg\n",
        "import matplotlib.pyplot as plt"
      ],
      "execution_count": 164,
      "outputs": []
    },
    {
      "cell_type": "markdown",
      "metadata": {
        "id": "FOKYtA6jrkS8"
      },
      "source": [
        "**1.** Реализовать генератор матриц, который должен поддерживать функции:\n",
        "* Генерация абсолютно случайной матрицы $n\\times m$\n",
        "* Генерация случайной диагональной матрицы $n\\times n$\n",
        "* Генерация случайной верхнетреугольной матрицы\n",
        "* Генерация случайной нижнетреугольной матрицы\n",
        "* Генерация симметричной матрицы\n",
        "* Генерация вырожденной матрицы\n",
        "* Генерация матрицы ступенчатого вида $n\\times n$ ранга $m$\n",
        "* Генерация возмущения матрицы $n\\times m$, каждый элемент которой не превосходит по модулю заданный $\\varepsilon$\n",
        "\n",
        "Оценить вероятность того, что созданная матрица будет вырожденной. \n",
        "\n",
        "Оценить величину нормы матрицы возмущений в зависимости от параметра $\\varepsilon$ (оценить верхную границу)."
      ]
    },
    {
      "cell_type": "code",
      "metadata": {
        "id": "pI_bgZ6Gp5mQ"
      },
      "source": [
        "min = -100\n",
        "max = 100\n",
        "def generate_matrix(n, m): #случайная матрица размера n*m\n",
        "    return np.random.uniform(min, max, size=[n, m])\n",
        "def generate_diagonal(n): #случайная диагональная матрица размера n*n\n",
        "    return np.diag(np.random.uniform(min, max, size=[n]))\n",
        "def generate_upper_triangular(n): #случайная верхнетреугольная матрица размера n*n\n",
        "    return np.triu(generate_matrix(n, n))\n",
        "def generate_lower_triangular(n): #случайная нижнетреугольная матрица размера n*n\n",
        "    return np.tril(generate_matrix(n, n))\n",
        "def generate_sym(n): #симметричная матрица размера n*n\n",
        "    A = generate_matrix(n, n)\n",
        "    return (A + A.T)\n",
        "def generate_singular(n): #сингулярная матрица\n",
        "    if n==1:\n",
        "      return np.array([[0]])\n",
        "    M = generate_matrix(n,n)\n",
        "    M[1]=M[0] #дублируем 1 строку\n",
        "    return M\n",
        "def generate_ladder(n, m): #матрица ступенчатого вида n*n ранга m\n",
        "    M = generate_upper_triangular(n)\n",
        "    M[m:]=0 #обнуление n-m последних строчек\n",
        "    return M\n",
        "def generate_perturbation(n, m, eps): #вощмущение матрицы n*m\n",
        "    return np.random.uniform(-eps, eps, size=[n, m])"
      ],
      "execution_count": 66,
      "outputs": []
    },
    {
      "cell_type": "code",
      "metadata": {
        "colab": {
          "base_uri": "https://localhost:8080/"
        },
        "id": "4fdRWyis2PDD",
        "outputId": "1d788c0f-eb67-4a00-ace3-3e7252f6ab2f"
      },
      "source": [
        "generate_matrix(2,3)"
      ],
      "execution_count": null,
      "outputs": [
        {
          "output_type": "execute_result",
          "data": {
            "text/plain": [
              "array([[-14.39531638, -99.68469224,  49.0505597 ],\n",
              "       [-33.76831201,  22.84093309,  91.31402338]])"
            ]
          },
          "metadata": {},
          "execution_count": 37
        }
      ]
    },
    {
      "cell_type": "code",
      "metadata": {
        "colab": {
          "base_uri": "https://localhost:8080/"
        },
        "id": "jL_WmsNX2Swc",
        "outputId": "024676d0-5a3e-421c-baf3-daba118fe1ab"
      },
      "source": [
        "generate_diagonal(4)"
      ],
      "execution_count": null,
      "outputs": [
        {
          "output_type": "execute_result",
          "data": {
            "text/plain": [
              "array([[-44.66456809,   0.        ,   0.        ,   0.        ],\n",
              "       [  0.        ,  12.85282254,   0.        ,   0.        ],\n",
              "       [  0.        ,   0.        ,   1.37499626,   0.        ],\n",
              "       [  0.        ,   0.        ,   0.        , -25.99577081]])"
            ]
          },
          "metadata": {},
          "execution_count": 38
        }
      ]
    },
    {
      "cell_type": "code",
      "metadata": {
        "colab": {
          "base_uri": "https://localhost:8080/"
        },
        "id": "ABWAJCdr2Wej",
        "outputId": "b302c5a1-3619-413e-f9d1-db7bc5895615"
      },
      "source": [
        "generate_upper_triangular(4)"
      ],
      "execution_count": null,
      "outputs": [
        {
          "output_type": "execute_result",
          "data": {
            "text/plain": [
              "array([[-61.42787039, -25.80331546,  80.44763342, -98.95039502],\n",
              "       [  0.        ,  16.14637316,  89.10028668,  87.948529  ],\n",
              "       [  0.        ,   0.        ,  80.03537172,  48.26113136],\n",
              "       [  0.        ,   0.        ,   0.        ,  29.36995361]])"
            ]
          },
          "metadata": {},
          "execution_count": 39
        }
      ]
    },
    {
      "cell_type": "code",
      "metadata": {
        "colab": {
          "base_uri": "https://localhost:8080/"
        },
        "id": "W_hRggcQ2Z_H",
        "outputId": "f8fc4f78-eac5-4c43-c7d5-b90a2f586d2c"
      },
      "source": [
        "generate_lower_triangular(4)"
      ],
      "execution_count": null,
      "outputs": [
        {
          "output_type": "execute_result",
          "data": {
            "text/plain": [
              "array([[ 50.95983444,   0.        ,   0.        ,   0.        ],\n",
              "       [ -4.82163312, -10.96556405,   0.        ,   0.        ],\n",
              "       [-88.08226724, -15.08128599, -97.14573008,   0.        ],\n",
              "       [ 70.14584225,  79.97490498,  22.20869804, -99.96846272]])"
            ]
          },
          "metadata": {},
          "execution_count": 40
        }
      ]
    },
    {
      "cell_type": "code",
      "metadata": {
        "colab": {
          "base_uri": "https://localhost:8080/"
        },
        "id": "1nt70eMW2eOn",
        "outputId": "5187fd35-1a8a-47f9-c7e8-fd1f8a8e10b2"
      },
      "source": [
        "generate_sym(1)"
      ],
      "execution_count": null,
      "outputs": [
        {
          "output_type": "execute_result",
          "data": {
            "text/plain": [
              "array([[78.44564247]])"
            ]
          },
          "metadata": {},
          "execution_count": 51
        }
      ]
    },
    {
      "cell_type": "code",
      "metadata": {
        "colab": {
          "base_uri": "https://localhost:8080/"
        },
        "id": "YwRaV2S6tsbM",
        "outputId": "413ff5a6-1056-45a4-8735-e8a21ce4822c"
      },
      "source": [
        "generate_singular(3)"
      ],
      "execution_count": null,
      "outputs": [
        {
          "output_type": "execute_result",
          "data": {
            "text/plain": [
              "array([[ -2.60181421, -56.63847476, -93.80025368],\n",
              "       [ -2.60181421, -56.63847476, -93.80025368],\n",
              "       [-31.70730769, -43.31688896, -99.5345433 ]])"
            ]
          },
          "metadata": {},
          "execution_count": 66
        }
      ]
    },
    {
      "cell_type": "code",
      "metadata": {
        "id": "PVV4gnm1tzH6",
        "colab": {
          "base_uri": "https://localhost:8080/"
        },
        "outputId": "15e6533e-bf2f-4bad-c575-7d4b47eabecf"
      },
      "source": [
        "generate_ladder(4,2)"
      ],
      "execution_count": null,
      "outputs": [
        {
          "output_type": "execute_result",
          "data": {
            "text/plain": [
              "array([[  3.21152728,  82.98798905,  87.49382198, -91.9211272 ],\n",
              "       [  0.        ,  50.90177984,  71.03637699, -26.11558011],\n",
              "       [  0.        ,   0.        ,   0.        ,   0.        ],\n",
              "       [  0.        ,   0.        ,   0.        ,   0.        ]])"
            ]
          },
          "metadata": {},
          "execution_count": 76
        }
      ]
    },
    {
      "cell_type": "code",
      "metadata": {
        "colab": {
          "base_uri": "https://localhost:8080/"
        },
        "id": "gQgIQUcg4-fb",
        "outputId": "90ba464b-1cbd-4356-c59e-a9672de7e0cc"
      },
      "source": [
        "generate_perturbation(2,3,0.05)"
      ],
      "execution_count": null,
      "outputs": [
        {
          "output_type": "execute_result",
          "data": {
            "text/plain": [
              "array([[-0.0432777 ,  0.03592156, -0.03458776],\n",
              "       [ 0.00761801, -0.01764704,  0.0161353 ]])"
            ]
          },
          "metadata": {},
          "execution_count": 78
        }
      ]
    },
    {
      "cell_type": "code",
      "metadata": {
        "colab": {
          "base_uri": "https://localhost:8080/"
        },
        "id": "liqHFe2t90H2",
        "outputId": "b3f7e7e0-7c67-4765-bf72-b3306a83e08d"
      },
      "source": [
        "eps = 0.1\n",
        "N = 500\n",
        "l2 = np.zeros(N)\n",
        "for i in range(N):\n",
        "    n = 10\n",
        "    A = generate_perturbation(n, n, eps)\n",
        "    l2[i] = (np.amax(np.linalg.eigvals(A.T @ A)))**0.5\n",
        "print(l2.mean()/eps)"
      ],
      "execution_count": null,
      "outputs": [
        {
          "output_type": "stream",
          "name": "stdout",
          "text": [
            "3.170572488740968\n"
          ]
        }
      ]
    },
    {
      "cell_type": "markdown",
      "metadata": {
        "id": "db1dsulj-_F6"
      },
      "source": [
        "Как видно, в среднем $l_2$-норма втрое превышает eps."
      ]
    },
    {
      "cell_type": "markdown",
      "metadata": {
        "id": "z3lKCyCv3LQo"
      },
      "source": [
        "**2.** Используя ряд Маклорена, реализовать вычисление основных элементарных функций: \n",
        "* Экспонента\n",
        "* Натуральный логарифм\n",
        "* Синус\n",
        "* Косинус\n",
        "* Тангенс\n",
        "* Котангенс\n",
        "* Арксинус\n",
        "* Арккосинус\n",
        "* Арктангенс\n",
        "* Гиперболический синус \n",
        "* Гиперболический косинус\n",
        "* Гиперболический тангенс\n",
        "* Гиперболический арктангенс\n",
        "\n",
        "Оценить величину машинного эпсилон. Предложить модификации для некоторых функций и сравнить полученные результаты."
      ]
    },
    {
      "cell_type": "code",
      "metadata": {
        "id": "P26VCT2y5qkt",
        "colab": {
          "base_uri": "https://localhost:8080/"
        },
        "outputId": "8b2ea968-4b03-4d5f-d028-b7334f0a7741"
      },
      "source": [
        "def exp(x): #вычисление экспоненты\n",
        "  sum = 0\n",
        "  term = 1\n",
        "  i = 1\n",
        "  while sum != sum + term:\n",
        "    sum += term\n",
        "    term = term * abs(x)/i\n",
        "    i += 1\n",
        "  if sum != 0: print(f\"eps = {term/sum}\")\n",
        "  if x < 0: sum = 1/sum\n",
        "  return sum\n",
        "exp(1), exp(2), exp(5)"
      ],
      "execution_count": 55,
      "outputs": [
        {
          "output_type": "stream",
          "name": "stdout",
          "text": [
            "eps = 5.745985131144598e-17\n",
            "eps = 4.391435496532488e-17\n",
            "eps = 9.033416751357898e-17\n"
          ]
        },
        {
          "output_type": "execute_result",
          "data": {
            "text/plain": [
              "(2.7182818284590455, 7.389056098930649, 148.41315910257654)"
            ]
          },
          "metadata": {},
          "execution_count": 55
        }
      ]
    },
    {
      "cell_type": "code",
      "metadata": {
        "id": "h1PCjdZpA9SQ",
        "colab": {
          "base_uri": "https://localhost:8080/"
        },
        "outputId": "c20872f5-c8a4-420f-cd67-f7ec96447530"
      },
      "source": [
        "def ln(x): #вычисление логарифма\n",
        "  x -= 1\n",
        "  sum = 0\n",
        "  term = x\n",
        "  i = 1\n",
        "  while sum != sum + term:\n",
        "    sum += term\n",
        "    term = -term *x*i/(i+1)\n",
        "    i += 1\n",
        "  if sum != 0: print(f\"eps = {term/sum}\")\n",
        "  return sum\n",
        "ln(1.05), ln(0.5), ln(1.5)"
      ],
      "execution_count": 58,
      "outputs": [
        {
          "output_type": "stream",
          "name": "stdout",
          "text": [
            "eps = 1.9245731590189378e-17\n",
            "eps = 5.2300840878610914e-17\n",
            "eps = -4.381035023428893e-17\n"
          ]
        },
        {
          "output_type": "execute_result",
          "data": {
            "text/plain": [
              "(0.04879016416943205, -0.6931471805599451, 0.4054651081081643)"
            ]
          },
          "metadata": {},
          "execution_count": 58
        }
      ]
    },
    {
      "cell_type": "code",
      "metadata": {
        "colab": {
          "base_uri": "https://localhost:8080/"
        },
        "id": "fjLExr2sG_CN",
        "outputId": "0fbd15a0-1e67-4203-917f-548ea7933735"
      },
      "source": [
        "def sin(x): #вычисление синуса\n",
        "  sum = 0\n",
        "  term = x\n",
        "  i = 3\n",
        "  while sum != sum + term:\n",
        "    sum += term\n",
        "    term = -term *x*x/(i*(i-1))\n",
        "    i += 2\n",
        "  if sum != 0: print(f\"eps = {term/sum}\")\n",
        "  return sum\n",
        "sin(0.1), sin(1), sin(np.pi)"
      ],
      "execution_count": 60,
      "outputs": [
        {
          "output_type": "stream",
          "name": "stdout",
          "text": [
            "eps = -2.5093910663266542e-18\n",
            "eps = -9.769362693475473e-18\n",
            "eps = 8.376287306418679e-19\n"
          ]
        },
        {
          "output_type": "execute_result",
          "data": {
            "text/plain": [
              "(0.09983341664682817, 0.8414709848078965, 2.348988252873668e-16)"
            ]
          },
          "metadata": {},
          "execution_count": 60
        }
      ]
    },
    {
      "cell_type": "code",
      "metadata": {
        "colab": {
          "base_uri": "https://localhost:8080/"
        },
        "id": "0AOQyjZLId7G",
        "outputId": "10eb278e-a129-4f03-c654-2945e79ed2b1"
      },
      "source": [
        "def cos(x): #вычисление косинуса\n",
        "  sum = 0\n",
        "  term = 1\n",
        "  i = 2\n",
        "  while sum != sum + term:\n",
        "    sum += term\n",
        "    term = -term *x*x/(i*(i-1))\n",
        "    i += 2\n",
        "  if sum != 0: print(f\"eps = {term/sum}\")\n",
        "  return sum\n",
        "cos(0.1), cos(1), cos(np.pi)"
      ],
      "execution_count": 61,
      "outputs": [
        {
          "output_type": "stream",
          "name": "stdout",
          "text": [
            "eps = -2.769568227514484e-17\n",
            "eps = 7.607440461887061e-19\n",
            "eps = 3.0962506152968605e-18\n"
          ]
        },
        {
          "output_type": "execute_result",
          "data": {
            "text/plain": [
              "(0.9950041652780258, 0.5403023058681397, -1.0000000000000002)"
            ]
          },
          "metadata": {},
          "execution_count": 61
        }
      ]
    },
    {
      "cell_type": "code",
      "metadata": {
        "id": "DHtnIC8UJDpp"
      },
      "source": [
        "def tan(x): #вычисление синуса\n",
        "  sum = 0\n",
        "  term = x\n",
        "  i = 3\n",
        "  while sum != sum + term:\n",
        "    sum += term\n",
        "    term = -term *x*x/(i*(i-1))\n",
        "    i += 2\n",
        "  return sum\n",
        "sin(np.pi)"
      ],
      "execution_count": null,
      "outputs": []
    },
    {
      "cell_type": "markdown",
      "metadata": {
        "id": "ky5QWWW8em1F"
      },
      "source": [
        "**3.** Реализовать вычисление трех основных норм векторов ($L_1$, $L_2$ и кубическую) и подчиненных им матричных норм. Реализовать вычисление числа обусловленности.\n",
        "\n",
        "Примечание: для вычисления собственных значений можно использовать linalg.eigvals из модуля scipy"
      ]
    },
    {
      "cell_type": "code",
      "metadata": {
        "colab": {
          "base_uri": "https://localhost:8080/"
        },
        "id": "mi6C38ane2x7",
        "outputId": "bf00b139-101a-4a08-ef3d-a0c7ee65411a"
      },
      "source": [
        "def L1_vec(v): #векторная L1-норма\n",
        "    return np.sum(np.abs(v))\n",
        "def L2_vec(v): #векторная L2-норма\n",
        "    return (np.sum(v*v))**0.5\n",
        "def Cube_vec(v): #векторная кубическая норма\n",
        "    return np.max(np.abs(v))\n",
        "\n",
        "v = np.array([1, -2, 5])\n",
        "L1_vec(v), L2_vec(v), Cube_vec(v)"
      ],
      "execution_count": 12,
      "outputs": [
        {
          "output_type": "execute_result",
          "data": {
            "text/plain": [
              "(8, 5.477225575051661, 5)"
            ]
          },
          "metadata": {},
          "execution_count": 12
        }
      ]
    },
    {
      "cell_type": "code",
      "metadata": {
        "colab": {
          "base_uri": "https://localhost:8080/"
        },
        "id": "OERVxlPYfAc-",
        "outputId": "1c527083-5321-473b-ad8f-91c7672a0a82"
      },
      "source": [
        "def L1_mat(M): #матричная L1-норма\n",
        "    return np.max(np.sum(np.abs(M), axis=0))\n",
        "def L2_mat(M): #матричная L2-норма\n",
        "    w, v = scipy.linalg.eig(M.T @ M)\n",
        "    return (np.max(np.abs(w)))**0.5\n",
        "def Cube_mat(M): #матричная кубическая норма\n",
        "    return np.max(np.sum(np.abs(M), axis=1))    \n",
        "\n",
        "M = np.array([[1, 1],[2, 5]])\n",
        "L1_mat(M), L2_mat(M), Cube_mat(M)"
      ],
      "execution_count": 37,
      "outputs": [
        {
          "output_type": "execute_result",
          "data": {
            "text/plain": [
              "(6, 5.54138126514911, 7)"
            ]
          },
          "metadata": {},
          "execution_count": 37
        }
      ]
    },
    {
      "cell_type": "code",
      "metadata": {
        "colab": {
          "base_uri": "https://localhost:8080/"
        },
        "id": "pisVYRZ-gfrv",
        "outputId": "bc5cf7f8-f129-48a1-9343-25d0dc27be8a"
      },
      "source": [
        "def condition_number(M): #число обусловленности матрицы (по евклидовой норме)\n",
        "  return L2_mat(M)*L2_mat(np.linalg.inv(M))\n",
        "\n",
        "M = np.array([[1, 1],[2, 5]])\n",
        "condition_number(M)"
      ],
      "execution_count": 38,
      "outputs": [
        {
          "output_type": "execute_result",
          "data": {
            "text/plain": [
              "10.235635441915182"
            ]
          },
          "metadata": {},
          "execution_count": 38
        }
      ]
    },
    {
      "cell_type": "markdown",
      "metadata": {
        "id": "U6J_ynark9P1"
      },
      "source": [
        "**4.** Реализовать метод Гаусса приведения матрицы к ступенчатому виду. Реализовать функцию вычисления ранга матрицы. Сгенерировать вырожденные матрицы различных рангов и размеров и проверить алгоритм."
      ]
    },
    {
      "cell_type": "code",
      "metadata": {
        "id": "yHPFH8MVjeaY"
      },
      "source": [
        "def gauss1(M): #1 часть метода Гаусса\n",
        "    n, m = M.shape\n",
        "    k = 0\n",
        "    for i in range(m):\n",
        "        l = -1\n",
        "        for j in range(k, n):\n",
        "            if M[j, i] != 0:\n",
        "                l = j\n",
        "                break\n",
        "        if l != -1:\n",
        "            M[[k, l]] = M[[l, k]]\n",
        "        else:\n",
        "            continue\n",
        "        for j in range(k + 1, n):\n",
        "            M[j] = M[j] - M[k] / M[k, i] * M[j, i]\n",
        "        k += 1\n",
        "    return M\n",
        "def rang(M): #вычисление ранга\n",
        "    return np.sum(np.any(gauss1(M), axis=1))"
      ],
      "execution_count": 92,
      "outputs": []
    },
    {
      "cell_type": "code",
      "metadata": {
        "colab": {
          "base_uri": "https://localhost:8080/"
        },
        "id": "YvS1u6p7n7z9",
        "outputId": "347fc9b3-4b86-449f-df50-f8c4b032b85b"
      },
      "source": [
        "M = generate_singular(2)\n",
        "print(M)\n",
        "print(gauss1(M), rang(M))"
      ],
      "execution_count": 93,
      "outputs": [
        {
          "output_type": "stream",
          "name": "stdout",
          "text": [
            "[[-58.52464087  88.88535668]\n",
            " [-58.52464087  88.88535668]]\n",
            "[[-58.52464087  88.88535668]\n",
            " [  0.           0.        ]] 1\n"
          ]
        }
      ]
    },
    {
      "cell_type": "code",
      "metadata": {
        "colab": {
          "base_uri": "https://localhost:8080/"
        },
        "id": "LIVCsc1It-m6",
        "outputId": "75066374-cc29-4c67-fdcd-b8b6b8a7de28"
      },
      "source": [
        "M = generate_singular(3)\n",
        "print(M)\n",
        "print(gauss1(M), rang(M))"
      ],
      "execution_count": 94,
      "outputs": [
        {
          "output_type": "stream",
          "name": "stdout",
          "text": [
            "[[23.77807481 65.73507132 15.2157494 ]\n",
            " [23.77807481 65.73507132 15.2157494 ]\n",
            " [ 5.63131432 -5.80862611  1.32514809]]\n",
            "[[ 2.37780748e+01  6.57350713e+01  1.52157494e+01]\n",
            " [ 0.00000000e+00 -2.13765327e+01 -2.27836768e+00]\n",
            " [ 0.00000000e+00  0.00000000e+00  1.77635684e-15]] 3\n"
          ]
        }
      ]
    },
    {
      "cell_type": "markdown",
      "metadata": {
        "id": "D88QH_pfzfCL"
      },
      "source": [
        "**5.** Реализовать метод Гаусса решения СЛАУ. Использовать данный метод для решения систем различных размеров. Оценить скорость работы метода Гаусса (необходимое количество операций) в зависимости от размера системы. "
      ]
    },
    {
      "cell_type": "code",
      "metadata": {
        "id": "78nARyjlzY92"
      },
      "source": [
        "def gauss(M, f): #2 часть метода Гаусса\n",
        "    f = np.array(f, dtype='float')\n",
        "    f = f.reshape(1, -1)\n",
        "    n = f.shape[1]\n",
        "    x = np.zeros(n)\n",
        "    if get_rank(M) != n:\n",
        "        return (\"Матрица вырождена\")\n",
        "    extM = np.concatenate((M, f.reshape(n, 1)), axis=1)\n",
        "    extM = gauss1(extM)\n",
        "    for i in range(n-1, -1, -1):\n",
        "        a = 0.0\n",
        "        for j in range(i + 1, n):\n",
        "            a += x[j] * extM[i, j]\n",
        "        x[i] = (extM[i, n] - a) / extM[i, i]\n",
        "    return x"
      ],
      "execution_count": 107,
      "outputs": []
    },
    {
      "cell_type": "code",
      "metadata": {
        "colab": {
          "base_uri": "https://localhost:8080/"
        },
        "id": "FecI83Ey203z",
        "outputId": "d56abe60-b456-4cd1-9865-be15d852ac6a"
      },
      "source": [
        "M = np.array([[1, 2, 3],\n",
        "     [4, 9, 6],\n",
        "     [7, 2, 1]])\n",
        "f = [1, 2, 3]\n",
        "print(gauss(M, f))"
      ],
      "execution_count": 113,
      "outputs": [
        {
          "output_type": "stream",
          "name": "stdout",
          "text": [
            "[ 0.43478261 -0.17391304  0.30434783]\n"
          ]
        }
      ]
    },
    {
      "cell_type": "markdown",
      "metadata": {
        "id": "eQhAZ-AB6NYS"
      },
      "source": [
        "Прямой ход метода Гаусса: $O(n^3)$, обратный: $O(n^2)$. Общая асимптотика: $O(n^3)$."
      ]
    },
    {
      "cell_type": "markdown",
      "metadata": {
        "id": "JYvOM-yx49lh"
      },
      "source": [
        "**6.** Сгенерировать СЛАУ (размер матрицы должен быть не менее $50\\times 50$). Решить СЛАУ методом Гаусса для различных возмущений столбца свободных членов. Оценить число обусловленности, используя полученные результаты. Вычислить число обусловленности и сравнить с численными оценками."
      ]
    },
    {
      "cell_type": "code",
      "metadata": {
        "colab": {
          "base_uri": "https://localhost:8080/",
          "height": 265
        },
        "id": "aN1NxizJ3qVP",
        "outputId": "16e1bf0a-82ee-463e-bac3-87539d33ffcc"
      },
      "source": [
        "N = 50\n",
        "A = 100\n",
        "epss=[0.1,0.05,0.01,0.005,0.0001]\n",
        "cond_es=[]\n",
        "for eps in epss:\n",
        "  c=0\n",
        "  for i in range(A):\n",
        "    M = generate_matrix(N,N)\n",
        "    f = np.ones(N)\n",
        "    f_per = generate_perturbation(1,N,eps)\n",
        "    x = gauss(M,f)\n",
        "    x_per = gauss(M,f_per)\n",
        "    cond = condition_number(M) #вычисленное число обусловленности\n",
        "    c += L2_vec(x_per)/L2_vec(x)*L2_vec(f)/L2_vec(f_per)/cond #отношение нижней оценки числа обусловленности к числу обусловленности\n",
        "  cond_es.append(c/A) #среднее отношение\n",
        "plt.scatter(epss, cond_es)\n",
        "plt.show()"
      ],
      "execution_count": 173,
      "outputs": [
        {
          "output_type": "display_data",
          "data": {
            "image/png": "[encoded data removed]",
            "text/plain": [
              "<Figure size 432x288 with 1 Axes>"
            ]
          },
          "metadata": {
            "needs_background": "light"
          }
        }
      ]
    },
    {
      "cell_type": "markdown",
      "metadata": {
        "id": "yF5BGmgVEDi0"
      },
      "source": [
        "Как видно, в среднем нижняя оценка числа обусловленности меньше в 1000 раз числа обусловленности при различных eps."
      ]
    }
  ]
}