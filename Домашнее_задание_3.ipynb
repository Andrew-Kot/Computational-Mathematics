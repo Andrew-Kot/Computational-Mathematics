{
  "nbformat": 4,
  "nbformat_minor": 0,
  "metadata": {
    "colab": {
      "name": "Домашнее задание 3.ipynb",
      "provenance": [],
      "collapsed_sections": []
    },
    "kernelspec": {
      "name": "python3",
      "display_name": "Python 3"
    },
    "language_info": {
      "name": "python"
    }
  },
  "cells": [
    {
      "cell_type": "markdown",
      "metadata": {
        "id": "iNWM53Z-j23-"
      },
      "source": [
        "[**Домашнее задание 3**](https://onedrive.live.com/?authkey=%21AI%5FBxUIavdEebNg&cid=6B66B90A1F084CD8&id=6B66B90A1F084CD8%21419&parId=6B66B90A1F084CD8%21254&o=OneUp)\n",
        "\n",
        "Коцевич Андрей, Б02-920"
      ]
    },
    {
      "cell_type": "markdown",
      "metadata": {
        "id": "46kpIIObkGmR"
      },
      "source": [
        "**1.** Количество срабатываний счетчика Гейгера за минуту $n$ подчиняется распределению Пуассона:\n",
        "\\begin{equation}\n",
        "  P_\\lambda(n)=\\frac{\\lambda^n}{n!}e^{-\\lambda}\n",
        "\\end{equation}\n",
        "1. В ходе эксперимента счётчик Гейгера сработал за минуту $m$ раз. С помощью теоремы Байеса определите апостериорное распределение на $\\lambda$. Указание: априорную плотность вероятности $\\lambda$ можно считать постоянной (так как мы изначально ничего не знаем про $\\lambda$). \n",
        "2. Эксперимент повторили ещё раз, в этот раз счётчик Гейгера сработал за минуту $m′$ раз. Как обновилось апостериорное распределение на $\\lambda$?\n",
        "**Решение.**\n",
        "1. $P(\\lambda)=c=\\text{const}$ - априорное распределение, $P(\\lambda|m)$ - апостериорное. По теореме Байеса:\n",
        "\\begin{equation}\n",
        "  P(\\lambda|m)=\\frac{P(m|\\lambda)P(\\lambda)}{P(m)}=\\frac{P(m|\\lambda)P(\\lambda)}{\\int d\\lambda P(m|\\lambda)P(\\lambda)}=\\frac{P_\\lambda(m)}{\\int\\limits_0^\\infty d\\lambda P_\\lambda(m)}=P_\\lambda(m)\n",
        "\\end{equation}\n",
        "\\begin{equation}\n",
        "  \\boxed{P(\\lambda|m)=\\frac{\\lambda^m}{m!}e^{-\\lambda}}\n",
        "\\end{equation}\n",
        "2. Теперь $P(\\lambda)=P(\\lambda|m)=P_\\lambda(m)$ - априорное распределение, $P(\\lambda|m,m')$ - апостериорное. Обозначим $P(\\lambda)=c=\\text{const}$. По теореме Байеса:\n",
        "\\begin{equation}\n",
        "  P(\\lambda|m,m')=\\frac{P(m'|\\lambda)P(\\lambda)}{P(m')}=\\frac{P(m'|\\lambda)P(\\lambda)}{\\int d\\lambda P(m'|\\lambda)P(\\lambda)}=\\frac{P_\\lambda(m')P_\\lambda(m)}{\\int\\limits_0^\\infty d\\lambda P_\\lambda(m')P_\\lambda(m)}\n",
        "\\end{equation}\n",
        "\\begin{equation}\n",
        "  \\boxed{P(\\lambda|m,m')=\\frac{2^{1+m+m'}\\lambda^{m+m'}}{(m+m')!}e^{-2\\lambda}}\n",
        "\\end{equation}"
      ]
    },
    {
      "cell_type": "markdown",
      "metadata": {
        "id": "PCeSCPSqpYCo"
      },
      "source": [
        "**2.** Ультрачувствительный тест от короновируса ошибается в $1\\%$ случаев (как в одну, так и в другую сторону). В данный момент в популяции доля заболевших $10^{−5}$. Петя получил положительный тест на коронавирус. С какой вероятностью он действительно болеет коронавирусом?\n",
        "\n",
        "**Решение.** Обозначим через событие $A$ - болезнь коронавирусом, через $B$ - положительный результат теста. Тогда\n",
        "\\begin{equation}\n",
        "P(A)=10^{-5},\\quad P(B|A)=0,99,\\quad P(B|\\neg A)=0,01\n",
        "\\end{equation}\n",
        "По теореме Байеса:\n",
        "\\begin{equation}\n",
        "  P(A|B)=\\frac{P(B|A)P(A)}{P(B)}=\\frac{P(B|A)P(A)}{P(B|A)P(A)+P(B|\\neg A)P(\\neg A)}\n",
        "\\end{equation}\n",
        "\\begin{equation}\n",
        "  \\boxed{P(A|B)=\\frac{0,99\\cdot 10^{-5}}{0,99\\cdot 10^{-5}+0,01\\cdot(1-10^{-5})}=9,89\\cdot 10^{-4}}\n",
        "\\end{equation}"
      ]
    },
    {
      "cell_type": "markdown",
      "metadata": {
        "id": "gpP4KrkruObO"
      },
      "source": [
        "**5.** Покажите, что задача минимизации квадратичной функции потерь с дополнительным ограничением (лассо Тибширани):\n",
        "\\begin{equation}\n",
        "  \\mathcal{L}=||Xw-y||^2\\rightarrow \\min_w,\\quad\\sum\\limits_\\alpha|w_\\alpha|<C\n",
        "\\end{equation}\n",
        "эквивалентна $L_1$-регуляризации. Указание: можно воспользоваться условиями Каруша—Куна—Таккера (обобщение метода Лагранжа).\n",
        "\n",
        "**Решение.**\n",
        "\\begin{equation}\n",
        "\\mathcal{L}'=||Xw-y||^2+\\mu\\left(\\sum\\limits_\\alpha|w_\\alpha|-C\\right)\n",
        "\\end{equation}\n",
        "Достаточные условия Каруша - Куна - Таккера:\n",
        "\\begin{equation}\n",
        "\\begin{cases}\n",
        "\\min_w\\mathcal{L}'(w)=\\mathcal{L}'(\\hat{w}),\\\\\n",
        "\\mu\\left(\\sum\\limits_\\alpha|\\hat{w}_\\alpha|-C\\right)=0,\\\\\n",
        "\\mu>0\n",
        "\\end{cases}\n",
        "\\end{equation}\n",
        "$L_1$-регуляризация:\n",
        "\\begin{equation}\n",
        "\\mathcal{L}''=||Xw-y||^2+\\mu\\sum\\limits_\\alpha|w_\\alpha|\\rightarrow \\min_w\n",
        "\\end{equation}\n",
        "Решение задачи минимизации удовлетворяет $L_1$-регуляризации, поскольку при выполнении условий Каруша - Куна - Таккера при $w_a=\\hat{w}_a$ $\\mathcal{L}''=\\mu C\\rightarrow$ достигает минимума. Обратно, устремление к минимуму $\\mathcal{L}''$ при $L_1$-регуляризации эквивалентно условиям Каруша - Куна - Таккера. Эквивалентность доказана."
      ]
    }
  ]
}