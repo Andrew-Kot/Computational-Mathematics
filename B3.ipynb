{
  "nbformat": 4,
  "nbformat_minor": 0,
  "metadata": {
    "colab": {
      "name": "B3.ipynb",
      "provenance": [],
      "collapsed_sections": []
    },
    "kernelspec": {
      "name": "python3",
      "display_name": "Python 3"
    },
    "language_info": {
      "name": "python"
    }
  },
  "cells": [
    {
      "cell_type": "markdown",
      "metadata": {
        "id": "Je0Ors4AxsqQ"
      },
      "source": [
        "**B3**\n",
        "\n",
        "Коцевич Андрей, Б02-920\n",
        "\n",
        "Теоретическая задача 3 решена в отдельном файле."
      ]
    },
    {
      "cell_type": "code",
      "metadata": {
        "id": "HI-t4rc3064I"
      },
      "source": [
        "import numpy as np\n",
        "import scipy.sparse\n",
        "import scipy.linalg\n",
        "import sys\n",
        "import time\n",
        "from matplotlib import pyplot as plt"
      ],
      "execution_count": 36,
      "outputs": []
    },
    {
      "cell_type": "markdown",
      "metadata": {
        "id": "1UFUHCUW0-rG"
      },
      "source": [
        "**1.** Реализовать с помощью scipy генератор полосатых матриц, который должен поддерживать функции:\n",
        "* Генерация абсолютно случайной полосатой матрицы $n\\times m$\n",
        "* Генерация полосатой матрицы с постоянными коэффициентами вдоль каждой полосы $n\\times n$\n",
        "* Генерация случайного возмущения матрицы $n\\times m$, каждый элемент которой не превосходит по модулю заданный $\\varepsilon$\n",
        "* Генерация полосатой матрицы, в которой полосы заданы векторами.\n",
        "\n",
        " Сравнить три приведённых ниже метода создания матриц между собой по использованию памяти, используя измерение размера объектов в Python (sys.getsizeof(object[, default])). \n",
        " Реализовать генератор матриц всеми тремя методами, сравнить их также по скорости (для решения систем уравнений).\n"
      ]
    },
    {
      "cell_type": "code",
      "metadata": {
        "id": "WUQdexUOxrDM"
      },
      "source": [
        "def generate_random_striped_matrix(N, sposob): #генерация случайной полосатой матрицы каким-то их 3 способов\n",
        "    if sposob == 1:\n",
        "        d1 = np.random.uniform(-1, 1, size=N - 1)\n",
        "        d2 = np.random.uniform(-1, 1, size=N)\n",
        "        d3 = np.random.uniform(-1, 1, size=N - 1)\n",
        "        diagonals = [d1, d2, d3]\n",
        "        return scipy.sparse.diags(diagonals, [-1, 0, 1]).toarray()\n",
        "    if sposob == 2:\n",
        "        A = np.zeros([3, N])\n",
        "        d1 = np.random.uniform(-1, 1, size=N)\n",
        "        d2 = np.random.uniform(-1, 1, size=N)\n",
        "        d3 = np.random.uniform(-1, 1, size=N)\n",
        "        A[0] = d1\n",
        "        A[1] = d2\n",
        "        A[2] = d3\n",
        "        return A\n",
        "    if sposob == 3:\n",
        "        d1 = np.random.uniform(-1, 1, size=N - 1)\n",
        "        d2 = np.random.uniform(-1, 1, size=N)\n",
        "        d3 = np.random.uniform(-1, 1, size=N - 1)\n",
        "        diagonals = [d1, d2, d3]\n",
        "        return scipy.sparse.diags(diagonals, [-1,0, 1])\n",
        "    \n",
        "def generate_striped_matrix_const(N, A, B, C, sposob): #генерация полосатой матрицы с постоянными коэффициентами\n",
        "    if sposob == 1:\n",
        "        d1 = A * np.ones(N-1)\n",
        "        d2 = B * np.ones(N)\n",
        "        d3 = C * np.ones(N-1)\n",
        "        diagonals = [d1, d2, d3]\n",
        "        return scipy.sparse.diags(diagonals, [-1, 0, 1]).toarray()\n",
        "    if sposob == 2:\n",
        "        A = np.zeros([N, N])\n",
        "        d1 = A * np.ones(N)\n",
        "        d2 = B * np.ones(N)\n",
        "        d3 = C * np.ones(N)\n",
        "        A[0] = d1\n",
        "        A[int(N / 2)] = d2\n",
        "        A[N - 1] = d3\n",
        "        return A\n",
        "    if sposob == 3:\n",
        "        d1 = A * np.ones(N-1)\n",
        "        d2 = B * np.ones(N)\n",
        "        d3 = C * np.ones(N-1)\n",
        "        diagonals = [d1, d2, d3]\n",
        "        return scipy.sparse.diags(diagonals, [-1,0, 1])\n",
        "\n",
        "def generate_perturbation(N, eps, sposob): #генерация случайного возмущения матрицы\n",
        "    if sposob == 1:\n",
        "        d1 = np.random.uniform(-eps, eps, size=N - 1)\n",
        "        d2 = np.random.uniform(-eps, eps, size=N)\n",
        "        d3 = np.random.uniform(-eps, eps, size=N - 1)\n",
        "        diagonals = [d1, d2, d3]\n",
        "        return scipy.sparse.diags(diagonals, [-1, 0, 1]).toarray()\n",
        "    if sposob == 2:\n",
        "        A = np.zeros([N, N])\n",
        "        d1 = np.random.uniform(-eps, eps, size=N)\n",
        "        d2 = np.random.uniform(-eps, eps, size=N)\n",
        "        d3 = np.random.uniform(-eps, eps, size=N)\n",
        "        A[0] = d1\n",
        "        A[int(N / 2)] = d2\n",
        "        A[N - 1] = d3\n",
        "        return A\n",
        "    if sposob == 3:\n",
        "        d1 = np.random.uniform(-eps, eps, size=N - 1)\n",
        "        d2 = np.random.uniform(-eps, eps, size=N)\n",
        "        d3 = np.random.uniform(-eps, eps, size=N - 1)\n",
        "        diagonals = [d1, d2, d3]\n",
        "        return scipy.sparse.diags(diagonals, [-1,0, 1])\n",
        "\n",
        "def generate_band_matrix(N, d1, d2, d3, sposob): #генерация полосатой матрицы, в которой полосы заданы векторами\n",
        "    if sposob == 1:\n",
        "        diagonals = [d1, d2, d3]\n",
        "        return scipy.sparse.diags(diagonals, [-1, 0, 1]).toarray()\n",
        "    if sposob == 2:\n",
        "        A = np.zeros([N, N])\n",
        "        A[0] = d1\n",
        "        A[int(N / 2)] = d2\n",
        "        A[N - 1] = d3\n",
        "        return A\n",
        "    if sposob == 3:\n",
        "        diagonals = [d1, d2, d3]\n",
        "        return scipy.sparse.diags(diagonals, [-1,0, 1])"
      ],
      "execution_count": 37,
      "outputs": []
    },
    {
      "cell_type": "code",
      "metadata": {
        "colab": {
          "base_uri": "https://localhost:8080/"
        },
        "id": "U2aB7bGW0Trb",
        "outputId": "9296ef24-8950-4007-9b9f-5eba7d75243b"
      },
      "source": [
        "A = generate_random_striped_matrix(5, 1)\n",
        "B = generate_random_striped_matrix(5, 2)\n",
        "C = generate_random_striped_matrix(5, 3)\n",
        "print(A,B,C)\n",
        "sys.getsizeof(A), sys.getsizeof(B), sys.getsizeof(C)"
      ],
      "execution_count": 56,
      "outputs": [
        {
          "output_type": "stream",
          "name": "stdout",
          "text": [
            "[[ 0.30807595  0.15668246  0.          0.          0.        ]\n",
            " [ 0.33330091 -0.06170085 -0.41060352  0.          0.        ]\n",
            " [ 0.          0.49025594  0.16323619 -0.45692476  0.        ]\n",
            " [ 0.          0.          0.31378833  0.95493422 -0.33030467]\n",
            " [ 0.          0.          0.         -0.5537671   0.03078018]] [[ 0.4700679   0.787556    0.0136119   0.32671417 -0.0318565 ]\n",
            " [-0.16475865 -0.07949714 -0.30693243  0.48585561  0.57583151]\n",
            " [-0.64518159 -0.28697852  0.80998518  0.3847639  -0.43438871]]   (1, 0)\t-0.1090903088241959\n",
            "  (2, 1)\t-0.7672108990892303\n",
            "  (3, 2)\t-0.5042132905717109\n",
            "  (4, 3)\t-0.4679708133640543\n",
            "  (0, 0)\t0.3417297138193176\n",
            "  (1, 1)\t0.022417351796632845\n",
            "  (2, 2)\t0.49124201471992235\n",
            "  (3, 3)\t0.9625061514722715\n",
            "  (4, 4)\t-0.10504911189259913\n",
            "  (0, 1)\t-0.5666425735442644\n",
            "  (1, 2)\t0.8357119337776377\n",
            "  (2, 3)\t-0.28024114143459067\n",
            "  (3, 4)\t0.18515863291833878\n"
          ]
        },
        {
          "output_type": "execute_result",
          "data": {
            "text/plain": [
              "(312, 232, 64)"
            ]
          },
          "metadata": {},
          "execution_count": 56
        }
      ]
    },
    {
      "cell_type": "markdown",
      "metadata": {
        "id": "jRMF1sDT3iTL"
      },
      "source": [
        "Как видно, 1 способ требует больше всего памяти, 2 способ требует меньше, 3 $-$ ещё меньше."
      ]
    },
    {
      "cell_type": "code",
      "metadata": {
        "colab": {
          "base_uri": "https://localhost:8080/",
          "height": 317
        },
        "id": "tE1kjQow3e1W",
        "outputId": "39d8eb21-7d9b-4e77-ed77-94f591b0a832"
      },
      "source": [
        "#сравнение времени\n",
        "times1 = []\n",
        "times2 = []\n",
        "times3 = []\n",
        "N = 300\n",
        "for i in range(3, N):\n",
        "    time1 = 0\n",
        "    time2 = 0\n",
        "    time3 = 0\n",
        "    f = np.ones(i)\n",
        "    for j in range(100):\n",
        "        A = generate_random_striped_matrix(i, 1)\n",
        "        B = generate_random_striped_matrix(i, 2)\n",
        "        C = generate_random_striped_matrix(i, 3)\n",
        "        start = time.time()\n",
        "        x = scipy.linalg.solve(A, f)\n",
        "        end = time.time()\n",
        "        time1 += end - start  \n",
        "        start = time.time()\n",
        "        x = scipy.linalg.solve_banded((1, 1), B, f)\n",
        "        end = time.time()\n",
        "        time2 += end - start  \n",
        "        start = time.time()\n",
        "        x = spsolve(C,f)\n",
        "        end = time.time()\n",
        "        time3 += end - start\n",
        "    time1 /= 100\n",
        "    time2 /= 100\n",
        "    time3 /= 100\n",
        "    times1.append(time1)\n",
        "    times2.append(time2)\n",
        "    times3.append(time3)\n",
        "plt.plot(np.array(range(3, N)), times1, label='1 способ')\n",
        "plt.plot(np.array(range(3, N)), times2, label='2 способ')\n",
        "plt.plot(np.array(range(3, N)), times3, label='3 способ')\n",
        "plt.legend()"
      ],
      "execution_count": 53,
      "outputs": [
        {
          "output_type": "stream",
          "name": "stderr",
          "text": [
            "/usr/local/lib/python3.7/dist-packages/scipy/sparse/linalg/dsolve/linsolve.py:138: SparseEfficiencyWarning: spsolve requires A be CSC or CSR matrix format\n",
            "  SparseEfficiencyWarning)\n"
          ]
        },
        {
          "output_type": "execute_result",
          "data": {
            "text/plain": [
              "<matplotlib.legend.Legend at 0x7f5f9546c150>"
            ]
          },
          "metadata": {},
          "execution_count": 53
        },
        {
          "output_type": "display_data",
          "data": {
            "image/png": "[encoded data removed]",
            "text/plain": [
              "<Figure size 432x288 with 1 Axes>"
            ]
          },
          "metadata": {
            "needs_background": "light"
          }
        }
      ]
    },
    {
      "cell_type": "markdown",
      "metadata": {
        "id": "APeAoGOz_4D9"
      },
      "source": [
        "**4.** Покажите, что при больших n метод Гивенса требует\n",
        "\n",
        "  ![image.png](data:image/png;base64,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)  \n",
        "  \n",
        "  действий умножения.  Докажите, что метод Гаусса требует примерно в 4 раза меньше.  \n",
        "\n",
        "Примените и тот, и другой метод для решения систем уравнений, используя библиотечные функции, и продемонстрируйте эту разницу измерением времени работы"
      ]
    },
    {
      "cell_type": "markdown",
      "metadata": {
        "id": "l8bQO1hkAVJx"
      },
      "source": [
        "**Решение.**\n",
        "Метод Гаусса требует $\\frac{n(n+1)(2n + 1)}{6} \\sim \\frac{n^3}{3}$ действий умножения. На i-м шаге метода Гивенса каждая строка вычисляется за $4(n-i)$ операций: $4+...+4(n-1)^2+4n^2 \\sim \\frac{4n^3}{3}$.\n",
        "Таким образом, метод Гаусса требует примерно в 4 раза меньше."
      ]
    },
    {
      "cell_type": "code",
      "metadata": {
        "colab": {
          "base_uri": "https://localhost:8080/",
          "height": 282
        },
        "id": "CrPog5JR39JP",
        "outputId": "0399ae0f-3bbb-4048-9de7-0767d67ad576"
      },
      "source": [
        "y = []\n",
        "N = 300\n",
        "for i in range(2, N):\n",
        "    time1 = 0\n",
        "    time2 = 0\n",
        "    f = np.ones(i)\n",
        "    for j in range(100):\n",
        "        A = np.random.uniform(-1, 1, size=[i, i])\n",
        "        start = time.time()\n",
        "        q, r = scipy.linalg.qr(A) #время QR-разложения\n",
        "        end = time.time()\n",
        "        time1 += end - start \n",
        "        start = time.time()\n",
        "        p, l, u = scipy.linalg.lu(A) #время LU-разложения\n",
        "        end = time.time()\n",
        "        time2 += end - start \n",
        "    y.append(time1/time2)\n",
        "plt.plot(np.array(range(2, N)), y, label='отношение времён')\n",
        "plt.legend()"
      ],
      "execution_count": 61,
      "outputs": [
        {
          "output_type": "execute_result",
          "data": {
            "text/plain": [
              "<matplotlib.legend.Legend at 0x7f5f95237bd0>"
            ]
          },
          "metadata": {},
          "execution_count": 61
        },
        {
          "output_type": "display_data",
          "data": {
            "image/png": "[encoded data removed]",
            "text/plain": [
              "<Figure size 432x288 with 1 Axes>"
            ]
          },
          "metadata": {
            "needs_background": "light"
          }
        }
      ]
    },
    {
      "cell_type": "markdown",
      "metadata": {
        "id": "mFuwvzvAErYe"
      },
      "source": [
        "Как видно, отношение времён в среднем меньше 4 (скорее, 3)."
      ]
    },
    {
      "cell_type": "markdown",
      "metadata": {
        "id": "-E3C6dAdDMCk"
      },
      "source": [
        "**5.** Реализовать итерационный метод Гаусса решения СЛАУ и метод простой итерации. Использовать данные методы для решения систем различных размеров. Оценить скорость работы методов (необходимое количество операций на одну итерацию) в зависимости от размера системы."
      ]
    },
    {
      "cell_type": "code",
      "metadata": {
        "id": "HJa4_Cu4BmM6"
      },
      "source": [
        "def simple_iteration(A, f, tau, eps): #метод простой итерации\n",
        "    A = np.array(A)\n",
        "    f = np.array(f)\n",
        "    n = A.shape[0]\n",
        "    x = np.zeros(n)\n",
        "    iter = 0\n",
        "    while (np.linalg.norm(((np.eye(n) - tau * A) @ x.reshape(n, 1)).reshape(1, n) + tau * f - x) > eps) & (np.linalg.norm(((np.eye(n) - tau * A) @ x.reshape(n, 1)).reshape(1, n) + tau * f - x) < 1e6):\n",
        "        x = ((np.eye(n) - tau * A) @ x.reshape(n, 1)).reshape(1, n) + tau * f\n",
        "        iter += 1\n",
        "    return x, iter"
      ],
      "execution_count": 77,
      "outputs": []
    },
    {
      "cell_type": "code",
      "metadata": {
        "colab": {
          "base_uri": "https://localhost:8080/",
          "height": 282
        },
        "id": "Z6_kU9KaFv-1",
        "outputId": "0bcf6632-1132-4a52-b6b3-aab07693770d"
      },
      "source": [
        "times1 = []\n",
        "times2 = []\n",
        "N = 20\n",
        "for i in range(1, N):\n",
        "    time1 = 0\n",
        "    time2 = 0\n",
        "    f = np.ones(i)\n",
        "    for j in range(100):\n",
        "        A = np.diag(np.random.uniform(size=i))\n",
        "        start = time.time()\n",
        "        x = np.linalg.solve(A, f)\n",
        "        end = time.time()\n",
        "        time1 += end - start        \n",
        "        start = time.time()\n",
        "        x, iters = simple_iteration(A, f, 1, 1e-6)\n",
        "        end = time.time()\n",
        "        time2 += end - start                \n",
        "    time1 /= 100\n",
        "    time2 /= 100\n",
        "    times1.append(time1)\n",
        "    times2.append(time2)\n",
        "plt.plot(np.array(range(1, N)), times1, label='метод Гаусса')\n",
        "plt.plot(np.array(range(1, N)), times2, label='метод простой итерации')\n",
        "plt.legend()"
      ],
      "execution_count": 81,
      "outputs": [
        {
          "output_type": "execute_result",
          "data": {
            "text/plain": [
              "<matplotlib.legend.Legend at 0x7f5f97753b10>"
            ]
          },
          "metadata": {},
          "execution_count": 81
        },
        {
          "output_type": "display_data",
          "data": {
            "image/png": "[encoded data removed]",
            "text/plain": [
              "<Figure size 432x288 with 1 Axes>"
            ]
          },
          "metadata": {
            "needs_background": "light"
          }
        }
      ]
    },
    {
      "cell_type": "markdown",
      "metadata": {
        "id": "E8C-KlONHSNZ"
      },
      "source": [
        "**6.** Ответьте на вопрос - при каких значениях параметра метода простой итерации он сходится? Напишите генератор случайных симметричных положительно определённых матриц и программу, которая проверяет данное утверждение, выбирая несколько значений параметра МПИ, лежащих в том диапазоне, в котором этот метод сходится.\n",
        "\n",
        "Проверка предусматривает вычисление скорости сходимости итерационного процесса путём сравнения невязок между собой. \n",
        "\n"
      ]
    },
    {
      "cell_type": "code",
      "metadata": {
        "id": "CNxkysjeGP4I"
      },
      "source": [
        "f = np.ones(20)\n",
        "cases = 0\n",
        "for i in range(5):\n",
        "    A = np.random.uniform(-1, 1, size=[20, 20])\n",
        "    A = A.T@A\n",
        "    values, vect = np.linalg.eig(A)\n",
        "    max_val = np.max(values)\n",
        "    tau = np.random.uniform(0, 2 / max_val)\n",
        "    x, iter = simple_iteration(A, f, tau, 1e-3)\n",
        "    if iter < int(1e6):\n",
        "        cases += 1\n",
        "print(\"Сходимость в \" + str(cases/15) + \"% случаев.\")\n"
      ],
      "execution_count": null,
      "outputs": []
    },
    {
      "cell_type": "code",
      "metadata": {
        "id": "p9XNYpTBPXjV"
      },
      "source": [
        ""
      ],
      "execution_count": null,
      "outputs": []
    }
  ]
}